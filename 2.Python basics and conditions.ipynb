{
 "cells": [
  {
   "cell_type": "code",
   "execution_count": 1,
   "id": "412cd6d4",
   "metadata": {},
   "outputs": [
    {
     "name": "stdout",
     "output_type": "stream",
     "text": [
      "this my first python program\n"
     ]
    }
   ],
   "source": [
    "print('this my first python program')"
   ]
  },
  {
   "cell_type": "code",
   "execution_count": 2,
   "id": "87779d4b",
   "metadata": {},
   "outputs": [
    {
     "ename": "SyntaxError",
     "evalue": "EOL while scanning string literal (<ipython-input-2-9211ac34082b>, line 1)",
     "output_type": "error",
     "traceback": [
      "\u001b[0;36m  File \u001b[0;32m\"<ipython-input-2-9211ac34082b>\"\u001b[0;36m, line \u001b[0;32m1\u001b[0m\n\u001b[0;31m    print('This is my first program)\u001b[0m\n\u001b[0m                                    ^\u001b[0m\n\u001b[0;31mSyntaxError\u001b[0m\u001b[0;31m:\u001b[0m EOL while scanning string literal\n"
     ]
    }
   ],
   "source": [
    "print('This is my first program)"
   ]
  },
  {
   "cell_type": "code",
   "execution_count": 4,
   "id": "9dbfb67f",
   "metadata": {},
   "outputs": [],
   "source": [
    "#my name is sandeep"
   ]
  },
  {
   "cell_type": "code",
   "execution_count": 5,
   "id": "960e8af8",
   "metadata": {},
   "outputs": [
    {
     "data": {
      "text/plain": [
       "\"my name is sandeep \\nand i'm a data scientist\""
      ]
     },
     "execution_count": 5,
     "metadata": {},
     "output_type": "execute_result"
    }
   ],
   "source": [
    "'''my name is sandeep \n",
    "and i'm a data scientist'''"
   ]
  },
  {
   "cell_type": "code",
   "execution_count": 6,
   "id": "5b915066",
   "metadata": {},
   "outputs": [],
   "source": [
    "a = 10"
   ]
  },
  {
   "cell_type": "code",
   "execution_count": 7,
   "id": "0aa5c040",
   "metadata": {},
   "outputs": [
    {
     "data": {
      "text/plain": [
       "10"
      ]
     },
     "execution_count": 7,
     "metadata": {},
     "output_type": "execute_result"
    }
   ],
   "source": [
    "a"
   ]
  },
  {
   "cell_type": "code",
   "execution_count": 8,
   "id": "343f0edb",
   "metadata": {},
   "outputs": [
    {
     "data": {
      "text/plain": [
       "int"
      ]
     },
     "execution_count": 8,
     "metadata": {},
     "output_type": "execute_result"
    }
   ],
   "source": [
    "type(a)"
   ]
  },
  {
   "cell_type": "code",
   "execution_count": 9,
   "id": "e585ca7b",
   "metadata": {},
   "outputs": [],
   "source": [
    "b = 'sudh'"
   ]
  },
  {
   "cell_type": "code",
   "execution_count": 10,
   "id": "a9f083e5",
   "metadata": {},
   "outputs": [
    {
     "data": {
      "text/plain": [
       "'sudh'"
      ]
     },
     "execution_count": 10,
     "metadata": {},
     "output_type": "execute_result"
    }
   ],
   "source": [
    "b"
   ]
  },
  {
   "cell_type": "code",
   "execution_count": 11,
   "id": "a6287ac5",
   "metadata": {},
   "outputs": [
    {
     "data": {
      "text/plain": [
       "str"
      ]
     },
     "execution_count": 11,
     "metadata": {},
     "output_type": "execute_result"
    }
   ],
   "source": [
    "type(b)"
   ]
  },
  {
   "cell_type": "code",
   "execution_count": 12,
   "id": "cd3c3bed",
   "metadata": {},
   "outputs": [
    {
     "name": "stdout",
     "output_type": "stream",
     "text": [
      "10 sudh datascience\n"
     ]
    }
   ],
   "source": [
    "print(a,b,'datascience')"
   ]
  },
  {
   "cell_type": "code",
   "execution_count": 13,
   "id": "c6ffc467",
   "metadata": {},
   "outputs": [],
   "source": [
    "a = 45\n",
    "b= 'sand'"
   ]
  },
  {
   "cell_type": "code",
   "execution_count": 14,
   "id": "6bb2b548",
   "metadata": {},
   "outputs": [],
   "source": [
    "a,b = 45,'sand'"
   ]
  },
  {
   "cell_type": "code",
   "execution_count": 16,
   "id": "9a879da3",
   "metadata": {},
   "outputs": [
    {
     "data": {
      "text/plain": [
       "45"
      ]
     },
     "execution_count": 16,
     "metadata": {},
     "output_type": "execute_result"
    }
   ],
   "source": [
    "a"
   ]
  },
  {
   "cell_type": "code",
   "execution_count": 17,
   "id": "c3d082b7",
   "metadata": {},
   "outputs": [
    {
     "data": {
      "text/plain": [
       "'sand'"
      ]
     },
     "execution_count": 17,
     "metadata": {},
     "output_type": "execute_result"
    }
   ],
   "source": [
    "b"
   ]
  },
  {
   "cell_type": "code",
   "execution_count": 18,
   "id": "32912b1e",
   "metadata": {},
   "outputs": [
    {
     "data": {
      "text/plain": [
       "(45, 'sand')"
      ]
     },
     "execution_count": 18,
     "metadata": {},
     "output_type": "execute_result"
    }
   ],
   "source": [
    "a,b"
   ]
  },
  {
   "cell_type": "code",
   "execution_count": 20,
   "id": "b11aa18f",
   "metadata": {},
   "outputs": [
    {
     "name": "stdout",
     "output_type": "stream",
     "text": [
      "45 sand\n"
     ]
    }
   ],
   "source": [
    " print(a,b)"
   ]
  },
  {
   "cell_type": "code",
   "execution_count": 22,
   "id": "5572125f",
   "metadata": {},
   "outputs": [
    {
     "ename": "SyntaxError",
     "evalue": "invalid syntax (<ipython-input-22-eba881a6c6bd>, line 1)",
     "output_type": "error",
     "traceback": [
      "\u001b[0;36m  File \u001b[0;32m\"<ipython-input-22-eba881a6c6bd>\"\u001b[0;36m, line \u001b[0;32m1\u001b[0m\n\u001b[0;31m    1b = 'sand' #variable name cannot start with number\u001b[0m\n\u001b[0m     ^\u001b[0m\n\u001b[0;31mSyntaxError\u001b[0m\u001b[0;31m:\u001b[0m invalid syntax\n"
     ]
    }
   ],
   "source": [
    "1b = 'sand' #variable name cannot start with number"
   ]
  },
  {
   "cell_type": "code",
   "execution_count": 23,
   "id": "7a53cbd1",
   "metadata": {},
   "outputs": [
    {
     "ename": "SyntaxError",
     "evalue": "invalid syntax (<ipython-input-23-6057c9b2ad39>, line 1)",
     "output_type": "error",
     "traceback": [
      "\u001b[0;36m  File \u001b[0;32m\"<ipython-input-23-6057c9b2ad39>\"\u001b[0;36m, line \u001b[0;32m1\u001b[0m\n\u001b[0;31m    @d = 'sand'\u001b[0m\n\u001b[0m       ^\u001b[0m\n\u001b[0;31mSyntaxError\u001b[0m\u001b[0;31m:\u001b[0m invalid syntax\n"
     ]
    }
   ],
   "source": [
    "@d = 'sand'"
   ]
  },
  {
   "cell_type": "code",
   "execution_count": 24,
   "id": "7c80feb7",
   "metadata": {},
   "outputs": [],
   "source": [
    "_b = 'sandeep'"
   ]
  },
  {
   "cell_type": "code",
   "execution_count": 25,
   "id": "91f5b7cf",
   "metadata": {},
   "outputs": [
    {
     "data": {
      "text/plain": [
       "'sandeep'"
      ]
     },
     "execution_count": 25,
     "metadata": {},
     "output_type": "execute_result"
    }
   ],
   "source": [
    "_b"
   ]
  },
  {
   "cell_type": "code",
   "execution_count": 26,
   "id": "e76d3832",
   "metadata": {},
   "outputs": [
    {
     "ename": "SyntaxError",
     "evalue": "invalid syntax (<ipython-input-26-1e887b50268f>, line 1)",
     "output_type": "error",
     "traceback": [
      "\u001b[0;36m  File \u001b[0;32m\"<ipython-input-26-1e887b50268f>\"\u001b[0;36m, line \u001b[0;32m1\u001b[0m\n\u001b[0;31m    b& = 'sand'\u001b[0m\n\u001b[0m       ^\u001b[0m\n\u001b[0;31mSyntaxError\u001b[0m\u001b[0;31m:\u001b[0m invalid syntax\n"
     ]
    }
   ],
   "source": [
    "b& = 'sand'"
   ]
  },
  {
   "cell_type": "code",
   "execution_count": 27,
   "id": "fd309532",
   "metadata": {},
   "outputs": [],
   "source": [
    "name = 'sandeep'\n",
    "userid = 'in001'\n",
    "password = 'sandeep001'\n",
    "email = 'sandeep@gmail.com'"
   ]
  },
  {
   "cell_type": "code",
   "execution_count": 28,
   "id": "b4aae799",
   "metadata": {},
   "outputs": [
    {
     "name": "stdout",
     "output_type": "stream",
     "text": [
      "sandeep in001 sandeep001 sandeep@gmail.com\n"
     ]
    }
   ],
   "source": [
    "print(name,userid,password,email)"
   ]
  },
  {
   "cell_type": "code",
   "execution_count": 29,
   "id": "5522fe31",
   "metadata": {},
   "outputs": [],
   "source": [
    "a = 1.6"
   ]
  },
  {
   "cell_type": "code",
   "execution_count": 30,
   "id": "4a6510e3",
   "metadata": {},
   "outputs": [
    {
     "data": {
      "text/plain": [
       "float"
      ]
     },
     "execution_count": 30,
     "metadata": {},
     "output_type": "execute_result"
    }
   ],
   "source": [
    "type(a)"
   ]
  },
  {
   "cell_type": "code",
   "execution_count": 31,
   "id": "344e9fbb",
   "metadata": {},
   "outputs": [
    {
     "data": {
      "text/plain": [
       "bool"
      ]
     },
     "execution_count": 31,
     "metadata": {},
     "output_type": "execute_result"
    }
   ],
   "source": [
    "type(True)"
   ]
  },
  {
   "cell_type": "code",
   "execution_count": 32,
   "id": "2fa6eab6",
   "metadata": {},
   "outputs": [],
   "source": [
    "c = False"
   ]
  },
  {
   "cell_type": "code",
   "execution_count": 33,
   "id": "ca1f2c71",
   "metadata": {},
   "outputs": [
    {
     "data": {
      "text/plain": [
       "bool"
      ]
     },
     "execution_count": 33,
     "metadata": {},
     "output_type": "execute_result"
    }
   ],
   "source": [
    "type(c)"
   ]
  },
  {
   "cell_type": "code",
   "execution_count": 34,
   "id": "50a42cf9",
   "metadata": {},
   "outputs": [
    {
     "data": {
      "text/plain": [
       "4"
      ]
     },
     "execution_count": 34,
     "metadata": {},
     "output_type": "execute_result"
    }
   ],
   "source": [
    "True + True + True + False + True"
   ]
  },
  {
   "cell_type": "code",
   "execution_count": 35,
   "id": "57e50216",
   "metadata": {},
   "outputs": [
    {
     "data": {
      "text/plain": [
       "0"
      ]
     },
     "execution_count": 35,
     "metadata": {},
     "output_type": "execute_result"
    }
   ],
   "source": [
    "False - True + True"
   ]
  },
  {
   "cell_type": "code",
   "execution_count": 36,
   "id": "88bd7230",
   "metadata": {},
   "outputs": [
    {
     "ename": "ZeroDivisionError",
     "evalue": "division by zero",
     "output_type": "error",
     "traceback": [
      "\u001b[0;31m---------------------------------------------------------------------------\u001b[0m",
      "\u001b[0;31mZeroDivisionError\u001b[0m                         Traceback (most recent call last)",
      "\u001b[0;32m<ipython-input-36-f8487d9d0863>\u001b[0m in \u001b[0;36m<module>\u001b[0;34m\u001b[0m\n\u001b[0;32m----> 1\u001b[0;31m \u001b[0;32mTrue\u001b[0m \u001b[0;34m/\u001b[0m \u001b[0;32mFalse\u001b[0m\u001b[0;34m\u001b[0m\u001b[0;34m\u001b[0m\u001b[0m\n\u001b[0m",
      "\u001b[0;31mZeroDivisionError\u001b[0m: division by zero"
     ]
    }
   ],
   "source": [
    " True / False"
   ]
  },
  {
   "cell_type": "code",
   "execution_count": 38,
   "id": "a653eb44",
   "metadata": {},
   "outputs": [],
   "source": [
    "import numpy as np"
   ]
  },
  {
   "cell_type": "code",
   "execution_count": 47,
   "id": "da0d3a0b",
   "metadata": {},
   "outputs": [],
   "source": [
    "a = np.array(10)\n",
    "b = np.array(0)"
   ]
  },
  {
   "cell_type": "code",
   "execution_count": 48,
   "id": "8fa9fd8e",
   "metadata": {},
   "outputs": [
    {
     "data": {
      "text/plain": [
       "array(10)"
      ]
     },
     "execution_count": 48,
     "metadata": {},
     "output_type": "execute_result"
    }
   ],
   "source": [
    "a"
   ]
  },
  {
   "cell_type": "code",
   "execution_count": 49,
   "id": "b07efae5",
   "metadata": {},
   "outputs": [
    {
     "data": {
      "text/plain": [
       "array(0)"
      ]
     },
     "execution_count": 49,
     "metadata": {},
     "output_type": "execute_result"
    }
   ],
   "source": [
    "b"
   ]
  },
  {
   "cell_type": "code",
   "execution_count": 51,
   "id": "09571ea2",
   "metadata": {},
   "outputs": [
    {
     "name": "stderr",
     "output_type": "stream",
     "text": [
      "<ipython-input-51-aae42d317509>:1: RuntimeWarning: divide by zero encountered in true_divide\n",
      "  a/b\n"
     ]
    },
    {
     "data": {
      "text/plain": [
       "inf"
      ]
     },
     "execution_count": 51,
     "metadata": {},
     "output_type": "execute_result"
    }
   ],
   "source": [
    "a/b"
   ]
  },
  {
   "cell_type": "code",
   "execution_count": 54,
   "id": "f8ad60fe",
   "metadata": {},
   "outputs": [],
   "source": [
    "n = 45 + 6j"
   ]
  },
  {
   "cell_type": "code",
   "execution_count": 55,
   "id": "b3db071a",
   "metadata": {},
   "outputs": [
    {
     "data": {
      "text/plain": [
       "complex"
      ]
     },
     "execution_count": 55,
     "metadata": {},
     "output_type": "execute_result"
    }
   ],
   "source": [
    "type(n)"
   ]
  },
  {
   "cell_type": "code",
   "execution_count": 56,
   "id": "3d675b9d",
   "metadata": {},
   "outputs": [
    {
     "data": {
      "text/plain": [
       "45.0"
      ]
     },
     "execution_count": 56,
     "metadata": {},
     "output_type": "execute_result"
    }
   ],
   "source": [
    "n.real"
   ]
  },
  {
   "cell_type": "code",
   "execution_count": 58,
   "id": "431f804b",
   "metadata": {},
   "outputs": [
    {
     "data": {
      "text/plain": [
       "6.0"
      ]
     },
     "execution_count": 58,
     "metadata": {},
     "output_type": "execute_result"
    }
   ],
   "source": [
    "n.imag"
   ]
  },
  {
   "cell_type": "code",
   "execution_count": 59,
   "id": "7139bf91",
   "metadata": {},
   "outputs": [],
   "source": [
    "m = 56 + 8j"
   ]
  },
  {
   "cell_type": "code",
   "execution_count": 60,
   "id": "a5d2d05d",
   "metadata": {},
   "outputs": [
    {
     "data": {
      "text/plain": [
       "(2472+696j)"
      ]
     },
     "execution_count": 60,
     "metadata": {},
     "output_type": "execute_result"
    }
   ],
   "source": [
    "m * n"
   ]
  },
  {
   "cell_type": "code",
   "execution_count": 61,
   "id": "9c89eeb5",
   "metadata": {},
   "outputs": [
    {
     "ename": "TypeError",
     "evalue": "unsupported operand type(s) for +: 'int' and 'str'",
     "output_type": "error",
     "traceback": [
      "\u001b[0;31m---------------------------------------------------------------------------\u001b[0m",
      "\u001b[0;31mTypeError\u001b[0m                                 Traceback (most recent call last)",
      "\u001b[0;32m<ipython-input-61-5829a452976d>\u001b[0m in \u001b[0;36m<module>\u001b[0;34m\u001b[0m\n\u001b[0;32m----> 1\u001b[0;31m \u001b[0;36m1\u001b[0m \u001b[0;34m+\u001b[0m \u001b[0;34m'sand'\u001b[0m\u001b[0;34m\u001b[0m\u001b[0;34m\u001b[0m\u001b[0m\n\u001b[0m",
      "\u001b[0;31mTypeError\u001b[0m: unsupported operand type(s) for +: 'int' and 'str'"
     ]
    }
   ],
   "source": [
    "1 + 'sand'"
   ]
  },
  {
   "cell_type": "code",
   "execution_count": 62,
   "id": "e18c16db",
   "metadata": {},
   "outputs": [
    {
     "data": {
      "text/plain": [
       "'1sand'"
      ]
     },
     "execution_count": 62,
     "metadata": {},
     "output_type": "execute_result"
    }
   ],
   "source": [
    "'1' + 'sand'"
   ]
  },
  {
   "cell_type": "code",
   "execution_count": 63,
   "id": "14af0633",
   "metadata": {},
   "outputs": [
    {
     "data": {
      "text/plain": [
       "'1sand'"
      ]
     },
     "execution_count": 63,
     "metadata": {},
     "output_type": "execute_result"
    }
   ],
   "source": [
    "str(1) + 'sand'"
   ]
  },
  {
   "cell_type": "code",
   "execution_count": 64,
   "id": "5580c3f1",
   "metadata": {},
   "outputs": [
    {
     "data": {
      "text/plain": [
       "2.0"
      ]
     },
     "execution_count": 64,
     "metadata": {},
     "output_type": "execute_result"
    }
   ],
   "source": [
    " 1 + 1.0"
   ]
  },
  {
   "cell_type": "code",
   "execution_count": 65,
   "id": "9729e555",
   "metadata": {},
   "outputs": [
    {
     "data": {
      "text/plain": [
       "'sandsandsand'"
      ]
     },
     "execution_count": 65,
     "metadata": {},
     "output_type": "execute_result"
    }
   ],
   "source": [
    "'sand' + 'sand' + 'sand'"
   ]
  },
  {
   "cell_type": "code",
   "execution_count": 66,
   "id": "48ba2111",
   "metadata": {},
   "outputs": [
    {
     "data": {
      "text/plain": [
       "'sandsandsand'"
      ]
     },
     "execution_count": 66,
     "metadata": {},
     "output_type": "execute_result"
    }
   ],
   "source": [
    "'sand'  * 3"
   ]
  },
  {
   "cell_type": "code",
   "execution_count": 67,
   "id": "4801cda5",
   "metadata": {},
   "outputs": [
    {
     "name": "stdout",
     "output_type": "stream",
     "text": [
      "10\n"
     ]
    }
   ],
   "source": [
    "a = int(input())"
   ]
  },
  {
   "cell_type": "code",
   "execution_count": 68,
   "id": "2ea2400b",
   "metadata": {},
   "outputs": [
    {
     "data": {
      "text/plain": [
       "10"
      ]
     },
     "execution_count": 68,
     "metadata": {},
     "output_type": "execute_result"
    }
   ],
   "source": [
    "a"
   ]
  },
  {
   "cell_type": "code",
   "execution_count": 69,
   "id": "44107c20",
   "metadata": {},
   "outputs": [
    {
     "name": "stdout",
     "output_type": "stream",
     "text": [
      "Enter the integer:5\n",
      "Enter the integer:10\n",
      "Enter the integer:15\n"
     ]
    }
   ],
   "source": [
    "a = int(input('Enter the integer:'))\n",
    "b = int(input('Enter the integer:'))\n",
    "c = int(input('Enter the integer:'))"
   ]
  },
  {
   "cell_type": "code",
   "execution_count": 74,
   "id": "c4faebc1",
   "metadata": {},
   "outputs": [
    {
     "data": {
      "text/plain": [
       "1.0"
      ]
     },
     "execution_count": 74,
     "metadata": {},
     "output_type": "execute_result"
    }
   ],
   "source": [
    "o = (a+b)/c\n",
    "o"
   ]
  },
  {
   "cell_type": "code",
   "execution_count": 75,
   "id": "13c8e93a",
   "metadata": {},
   "outputs": [
    {
     "data": {
      "text/plain": [
       "(6+6j)"
      ]
     },
     "execution_count": 75,
     "metadata": {},
     "output_type": "execute_result"
    }
   ],
   "source": [
    "o1 = (o + 5+6j)\n",
    "o1"
   ]
  },
  {
   "cell_type": "code",
   "execution_count": 73,
   "id": "b9dcee25",
   "metadata": {},
   "outputs": [
    {
     "data": {
      "text/plain": [
       "'(6+6j)sand'"
      ]
     },
     "execution_count": 73,
     "metadata": {},
     "output_type": "execute_result"
    }
   ],
   "source": [
    "str(o1) + 'sand'"
   ]
  },
  {
   "cell_type": "code",
   "execution_count": 81,
   "id": "09b4a3b4",
   "metadata": {},
   "outputs": [
    {
     "name": "stdout",
     "output_type": "stream",
     "text": [
      "Enter a number less than 34: 12\n"
     ]
    }
   ],
   "source": [
    "a = int(input('Enter a number less than 34: '))\n"
   ]
  },
  {
   "cell_type": "code",
   "execution_count": 83,
   "id": "658d4c82",
   "metadata": {},
   "outputs": [
    {
     "name": "stdout",
     "output_type": "stream",
     "text": [
      "Enter a number less than 34: 52\n",
      "Data is not lesser than 34\n"
     ]
    }
   ],
   "source": [
    "a = int(input('Enter a number less than 34: '))\n",
    "if a < 34:\n",
    "    print('Data input is lesser than 34 and im fine fine with it')\n",
    "else:\n",
    "    print('Data is not lesser than 34')\n",
    "    "
   ]
  },
  {
   "cell_type": "code",
   "execution_count": 85,
   "id": "c39d9630",
   "metadata": {},
   "outputs": [
    {
     "name": "stdout",
     "output_type": "stream",
     "text": [
      "Enter your salary4\n",
      " i will go for saving\n"
     ]
    }
   ],
   "source": [
    "salary = int(input('Enter your salary'))\n",
    "if salary > 1000:\n",
    "    print('i will buy a car')\n",
    "elif salary > 500:\n",
    "    print('i will buy a bike')\n",
    "elif salary > 100:\n",
    "    print('i will not buy anything')\n",
    "else:\n",
    "    print(' i will go for saving')"
   ]
  },
  {
   "cell_type": "code",
   "execution_count": 87,
   "id": "7c46debb",
   "metadata": {},
   "outputs": [
    {
     "name": "stdout",
     "output_type": "stream",
     "text": [
      "Enter your salary500000\n",
      "your salary is good\n",
      " i will go with tesla\n"
     ]
    }
   ],
   "source": [
    "salary = int(input('Enter your salary'))\n",
    "if salary > 1000:\n",
    "    print('your salary is good')\n",
    "    if salary < 5000:\n",
    "        print('i will go with a car maruthi')\n",
    "    elif salary < 10000:\n",
    "        print(' i will go with Tata')\n",
    "    elif salary < 50000:\n",
    "        print('i will go with benz')\n",
    "    else:\n",
    "        print(' i will go with tesla')\n",
    "elif salary > 500:\n",
    "    print('i will buy a bike')\n",
    "elif salary > 100:\n",
    "    print('i will not buy anything')\n",
    "else:\n",
    "    print(' i will go for saving')"
   ]
  },
  {
   "cell_type": "code",
   "execution_count": 88,
   "id": "2670400c",
   "metadata": {},
   "outputs": [
    {
     "data": {
      "text/plain": [
       "'sand'"
      ]
     },
     "execution_count": 88,
     "metadata": {},
     "output_type": "execute_result"
    }
   ],
   "source": [
    "'sand'"
   ]
  },
  {
   "cell_type": "code",
   "execution_count": 89,
   "id": "dee02ce9",
   "metadata": {},
   "outputs": [],
   "source": [
    "a = '''i am sandeep\n",
    "i want to be a data scientist'''"
   ]
  },
  {
   "cell_type": "code",
   "execution_count": 90,
   "id": "8c4f0c7b",
   "metadata": {},
   "outputs": [
    {
     "data": {
      "text/plain": [
       "'i am sandeep\\ni want to be a data scientist'"
      ]
     },
     "execution_count": 90,
     "metadata": {},
     "output_type": "execute_result"
    }
   ],
   "source": [
    "a"
   ]
  },
  {
   "cell_type": "code",
   "execution_count": null,
   "id": "30254793",
   "metadata": {},
   "outputs": [],
   "source": []
  }
 ],
 "metadata": {
  "kernelspec": {
   "display_name": "Python 3",
   "language": "python",
   "name": "python3"
  },
  "language_info": {
   "codemirror_mode": {
    "name": "ipython",
    "version": 3
   },
   "file_extension": ".py",
   "mimetype": "text/x-python",
   "name": "python",
   "nbconvert_exporter": "python",
   "pygments_lexer": "ipython3",
   "version": "3.8.8"
  }
 },
 "nbformat": 4,
 "nbformat_minor": 5
}
