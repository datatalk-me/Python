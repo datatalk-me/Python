{
 "cells": [
  {
   "cell_type": "code",
   "execution_count": 1,
   "id": "e7b93416",
   "metadata": {},
   "outputs": [],
   "source": [
    "a = 'sand'"
   ]
  },
  {
   "cell_type": "code",
   "execution_count": 2,
   "id": "34d95348",
   "metadata": {},
   "outputs": [],
   "source": [
    "b = \"sandeep\""
   ]
  },
  {
   "cell_type": "code",
   "execution_count": 3,
   "id": "833b2909",
   "metadata": {},
   "outputs": [
    {
     "data": {
      "text/plain": [
       "'sand'"
      ]
     },
     "execution_count": 3,
     "metadata": {},
     "output_type": "execute_result"
    }
   ],
   "source": [
    "a"
   ]
  },
  {
   "cell_type": "code",
   "execution_count": 4,
   "id": "645bc77d",
   "metadata": {},
   "outputs": [
    {
     "data": {
      "text/plain": [
       "'sandeep'"
      ]
     },
     "execution_count": 4,
     "metadata": {},
     "output_type": "execute_result"
    }
   ],
   "source": [
    "b"
   ]
  },
  {
   "cell_type": "code",
   "execution_count": 7,
   "id": "f9741ab9",
   "metadata": {},
   "outputs": [],
   "source": [
    "c = 'This is my first class for ful\"l stack data science'"
   ]
  },
  {
   "cell_type": "code",
   "execution_count": 8,
   "id": "77b06ada",
   "metadata": {},
   "outputs": [
    {
     "data": {
      "text/plain": [
       "'This is my first class for ful\"l stack data science'"
      ]
     },
     "execution_count": 8,
     "metadata": {},
     "output_type": "execute_result"
    }
   ],
   "source": [
    "c"
   ]
  },
  {
   "cell_type": "code",
   "execution_count": 9,
   "id": "8afe84ce",
   "metadata": {},
   "outputs": [],
   "source": [
    "s = 'This is a fsill stack class'"
   ]
  },
  {
   "cell_type": "code",
   "execution_count": 10,
   "id": "15d0d2cb",
   "metadata": {},
   "outputs": [
    {
     "data": {
      "text/plain": [
       "'T'"
      ]
     },
     "execution_count": 10,
     "metadata": {},
     "output_type": "execute_result"
    }
   ],
   "source": [
    "s[0]"
   ]
  },
  {
   "cell_type": "code",
   "execution_count": 11,
   "id": "940cca24",
   "metadata": {},
   "outputs": [
    {
     "data": {
      "text/plain": [
       "'s'"
      ]
     },
     "execution_count": 11,
     "metadata": {},
     "output_type": "execute_result"
    }
   ],
   "source": [
    "s[-1]"
   ]
  },
  {
   "cell_type": "code",
   "execution_count": 12,
   "id": "53fa8d5f",
   "metadata": {},
   "outputs": [
    {
     "data": {
      "text/plain": [
       "26"
      ]
     },
     "execution_count": 12,
     "metadata": {},
     "output_type": "execute_result"
    }
   ],
   "source": [
    "len(s)"
   ]
  },
  {
   "cell_type": "code",
   "execution_count": 13,
   "id": "8b760c0f",
   "metadata": {},
   "outputs": [
    {
     "data": {
      "text/plain": [
       "' is a '"
      ]
     },
     "execution_count": 13,
     "metadata": {},
     "output_type": "execute_result"
    }
   ],
   "source": [
    "s[4:10]"
   ]
  },
  {
   "cell_type": "code",
   "execution_count": 15,
   "id": "d0e78a33",
   "metadata": {},
   "outputs": [
    {
     "data": {
      "text/plain": [
       "'ssalc kca'"
      ]
     },
     "execution_count": 15,
     "metadata": {},
     "output_type": "execute_result"
    }
   ],
   "source": [
    "s[-1:-10:-1]"
   ]
  },
  {
   "cell_type": "code",
   "execution_count": 16,
   "id": "886afe67",
   "metadata": {},
   "outputs": [
    {
     "data": {
      "text/plain": [
       "'ssalc kcats llif a si sihT'"
      ]
     },
     "execution_count": 16,
     "metadata": {},
     "output_type": "execute_result"
    }
   ],
   "source": [
    "s[::-1]"
   ]
  },
  {
   "cell_type": "code",
   "execution_count": 19,
   "id": "70713bd5",
   "metadata": {},
   "outputs": [
    {
     "name": "stdout",
     "output_type": "stream",
     "text": [
      "This is a fill stack class"
     ]
    }
   ],
   "source": [
    "for i in s:\n",
    "    print(i,end='')"
   ]
  },
  {
   "cell_type": "code",
   "execution_count": 23,
   "id": "e76d623f",
   "metadata": {},
   "outputs": [
    {
     "name": "stdout",
     "output_type": "stream",
     "text": [
      "Tssalc kcats llif a si sih"
     ]
    }
   ],
   "source": [
    "for  i in range(len(s)):\n",
    "    print(s[-i],end='')"
   ]
  },
  {
   "cell_type": "code",
   "execution_count": 24,
   "id": "64732891",
   "metadata": {},
   "outputs": [
    {
     "data": {
      "text/plain": [
       "'This is a fill stack class'"
      ]
     },
     "execution_count": 24,
     "metadata": {},
     "output_type": "execute_result"
    }
   ],
   "source": [
    "s"
   ]
  },
  {
   "cell_type": "code",
   "execution_count": 25,
   "id": "e3dc45c6",
   "metadata": {},
   "outputs": [
    {
     "data": {
      "text/plain": [
       "'T'"
      ]
     },
     "execution_count": 25,
     "metadata": {},
     "output_type": "execute_result"
    }
   ],
   "source": [
    "s[0]"
   ]
  },
  {
   "cell_type": "code",
   "execution_count": 26,
   "id": "bdc8b328",
   "metadata": {},
   "outputs": [
    {
     "ename": "TypeError",
     "evalue": "'str' object does not support item assignment",
     "output_type": "error",
     "traceback": [
      "\u001b[0;31m---------------------------------------------------------------------------\u001b[0m",
      "\u001b[0;31mTypeError\u001b[0m                                 Traceback (most recent call last)",
      "\u001b[0;32m<ipython-input-26-910e3094fc67>\u001b[0m in \u001b[0;36m<module>\u001b[0;34m\u001b[0m\n\u001b[0;32m----> 1\u001b[0;31m \u001b[0ms\u001b[0m\u001b[0;34m[\u001b[0m\u001b[0;36m0\u001b[0m\u001b[0;34m]\u001b[0m \u001b[0;34m=\u001b[0m \u001b[0;34m's'\u001b[0m\u001b[0;34m\u001b[0m\u001b[0;34m\u001b[0m\u001b[0m\n\u001b[0m",
      "\u001b[0;31mTypeError\u001b[0m: 'str' object does not support item assignment"
     ]
    }
   ],
   "source": [
    "s[0] = 's'"
   ]
  },
  {
   "cell_type": "code",
   "execution_count": 27,
   "id": "f623f9e1",
   "metadata": {},
   "outputs": [],
   "source": [
    "l = ['sand',121,56,'ma']"
   ]
  },
  {
   "cell_type": "code",
   "execution_count": 28,
   "id": "c151342d",
   "metadata": {},
   "outputs": [
    {
     "data": {
      "text/plain": [
       "['sand', 121, 56, 'ma']"
      ]
     },
     "execution_count": 28,
     "metadata": {},
     "output_type": "execute_result"
    }
   ],
   "source": [
    "l"
   ]
  },
  {
   "cell_type": "code",
   "execution_count": 29,
   "id": "d8696b45",
   "metadata": {},
   "outputs": [],
   "source": [
    "l[1] = 156"
   ]
  },
  {
   "cell_type": "code",
   "execution_count": 30,
   "id": "7872c54c",
   "metadata": {},
   "outputs": [
    {
     "data": {
      "text/plain": [
       "['sand', 156, 56, 'ma']"
      ]
     },
     "execution_count": 30,
     "metadata": {},
     "output_type": "execute_result"
    }
   ],
   "source": [
    "l"
   ]
  },
  {
   "cell_type": "code",
   "execution_count": 31,
   "id": "fca12abe",
   "metadata": {},
   "outputs": [
    {
     "data": {
      "text/plain": [
       "'sandeep Rayudu'"
      ]
     },
     "execution_count": 31,
     "metadata": {},
     "output_type": "execute_result"
    }
   ],
   "source": [
    "  'sandeep ' + 'Rayudu'"
   ]
  },
  {
   "cell_type": "code",
   "execution_count": 32,
   "id": "a9ecc731",
   "metadata": {},
   "outputs": [
    {
     "data": {
      "text/plain": [
       "'sand3'"
      ]
     },
     "execution_count": 32,
     "metadata": {},
     "output_type": "execute_result"
    }
   ],
   "source": [
    "'sand' + '3'"
   ]
  },
  {
   "cell_type": "code",
   "execution_count": 33,
   "id": "dc208b69",
   "metadata": {},
   "outputs": [
    {
     "data": {
      "text/plain": [
       "'sand3'"
      ]
     },
     "execution_count": 33,
     "metadata": {},
     "output_type": "execute_result"
    }
   ],
   "source": [
    "'sand' + str(3)"
   ]
  },
  {
   "cell_type": "code",
   "execution_count": 34,
   "id": "1c476b44",
   "metadata": {},
   "outputs": [
    {
     "ename": "TypeError",
     "evalue": "can only concatenate str (not \"list\") to str",
     "output_type": "error",
     "traceback": [
      "\u001b[0;31m---------------------------------------------------------------------------\u001b[0m",
      "\u001b[0;31mTypeError\u001b[0m                                 Traceback (most recent call last)",
      "\u001b[0;32m<ipython-input-34-874968f5a1fb>\u001b[0m in \u001b[0;36m<module>\u001b[0;34m\u001b[0m\n\u001b[0;32m----> 1\u001b[0;31m \u001b[0;34m'sand'\u001b[0m \u001b[0;34m+\u001b[0m \u001b[0;34m[\u001b[0m\u001b[0;34m'rayudu'\u001b[0m\u001b[0;34m,\u001b[0m\u001b[0;36m123\u001b[0m\u001b[0;34m]\u001b[0m\u001b[0;34m\u001b[0m\u001b[0;34m\u001b[0m\u001b[0m\n\u001b[0m",
      "\u001b[0;31mTypeError\u001b[0m: can only concatenate str (not \"list\") to str"
     ]
    }
   ],
   "source": [
    "'sand' + ['rayudu',123]"
   ]
  },
  {
   "cell_type": "code",
   "execution_count": 35,
   "id": "9d6c4b69",
   "metadata": {},
   "outputs": [
    {
     "data": {
      "text/plain": [
       "'sandsandsandsandsandsand'"
      ]
     },
     "execution_count": 35,
     "metadata": {},
     "output_type": "execute_result"
    }
   ],
   "source": [
    "'sand'* 6"
   ]
  },
  {
   "cell_type": "code",
   "execution_count": 36,
   "id": "db8b1da8",
   "metadata": {},
   "outputs": [
    {
     "ename": "TypeError",
     "evalue": "unsupported operand type(s) for ** or pow(): 'str' and 'int'",
     "output_type": "error",
     "traceback": [
      "\u001b[0;31m---------------------------------------------------------------------------\u001b[0m",
      "\u001b[0;31mTypeError\u001b[0m                                 Traceback (most recent call last)",
      "\u001b[0;32m<ipython-input-36-5cf939046512>\u001b[0m in \u001b[0;36m<module>\u001b[0;34m\u001b[0m\n\u001b[0;32m----> 1\u001b[0;31m \u001b[0;34m'sand'\u001b[0m \u001b[0;34m**\u001b[0m \u001b[0;36m3\u001b[0m\u001b[0;34m\u001b[0m\u001b[0;34m\u001b[0m\u001b[0m\n\u001b[0m",
      "\u001b[0;31mTypeError\u001b[0m: unsupported operand type(s) for ** or pow(): 'str' and 'int'"
     ]
    }
   ],
   "source": [
    "'sand' ** 3"
   ]
  },
  {
   "cell_type": "code",
   "execution_count": 37,
   "id": "4bb8e267",
   "metadata": {},
   "outputs": [
    {
     "data": {
      "text/plain": [
       "27"
      ]
     },
     "execution_count": 37,
     "metadata": {},
     "output_type": "execute_result"
    }
   ],
   "source": [
    "3 ** 3"
   ]
  },
  {
   "cell_type": "code",
   "execution_count": 38,
   "id": "5fcd6666",
   "metadata": {},
   "outputs": [],
   "source": [
    "s = 'my name is sandeep'"
   ]
  },
  {
   "cell_type": "code",
   "execution_count": 39,
   "id": "74168c06",
   "metadata": {},
   "outputs": [
    {
     "data": {
      "text/plain": [
       "'my name is sandeep'"
      ]
     },
     "execution_count": 39,
     "metadata": {},
     "output_type": "execute_result"
    }
   ],
   "source": [
    "s"
   ]
  },
  {
   "cell_type": "code",
   "execution_count": 40,
   "id": "eaff36da",
   "metadata": {},
   "outputs": [
    {
     "data": {
      "text/plain": [
       "'My name is sandeep'"
      ]
     },
     "execution_count": 40,
     "metadata": {},
     "output_type": "execute_result"
    }
   ],
   "source": [
    "s.capitalize()"
   ]
  },
  {
   "cell_type": "code",
   "execution_count": 43,
   "id": "b8c6a771",
   "metadata": {},
   "outputs": [
    {
     "data": {
      "text/plain": [
       "3"
      ]
     },
     "execution_count": 43,
     "metadata": {},
     "output_type": "execute_result"
    }
   ],
   "source": [
    "s.find('name')"
   ]
  },
  {
   "cell_type": "code",
   "execution_count": 44,
   "id": "64c79bf7",
   "metadata": {},
   "outputs": [
    {
     "data": {
      "text/plain": [
       "6"
      ]
     },
     "execution_count": 44,
     "metadata": {},
     "output_type": "execute_result"
    }
   ],
   "source": [
    "s.find('e')"
   ]
  },
  {
   "cell_type": "code",
   "execution_count": 45,
   "id": "af5195a8",
   "metadata": {},
   "outputs": [
    {
     "data": {
      "text/plain": [
       "-1"
      ]
     },
     "execution_count": 45,
     "metadata": {},
     "output_type": "execute_result"
    }
   ],
   "source": [
    "s.find('z')"
   ]
  },
  {
   "cell_type": "code",
   "execution_count": 46,
   "id": "cf1476ed",
   "metadata": {},
   "outputs": [
    {
     "name": "stdout",
     "output_type": "stream",
     "text": [
      "3\n",
      "4\n",
      "5\n",
      "6\n"
     ]
    }
   ],
   "source": [
    "b = s.find('name')\n",
    "for i in range(len('name')):\n",
    "    print(b + i)"
   ]
  },
  {
   "cell_type": "code",
   "execution_count": 48,
   "id": "2ed1f1c0",
   "metadata": {},
   "outputs": [
    {
     "data": {
      "text/plain": [
       "2"
      ]
     },
     "execution_count": 48,
     "metadata": {},
     "output_type": "execute_result"
    }
   ],
   "source": [
    "s.count('m')"
   ]
  },
  {
   "cell_type": "code",
   "execution_count": 49,
   "id": "8e6efc4a",
   "metadata": {},
   "outputs": [
    {
     "data": {
      "text/plain": [
       "'my name is sandeep'"
      ]
     },
     "execution_count": 49,
     "metadata": {},
     "output_type": "execute_result"
    }
   ],
   "source": [
    "s"
   ]
  },
  {
   "cell_type": "code",
   "execution_count": 50,
   "id": "04aa5cb6",
   "metadata": {},
   "outputs": [
    {
     "data": {
      "text/plain": [
       "3"
      ]
     },
     "execution_count": 50,
     "metadata": {},
     "output_type": "execute_result"
    }
   ],
   "source": [
    "s.count('e')"
   ]
  },
  {
   "cell_type": "code",
   "execution_count": 51,
   "id": "a3911dc1",
   "metadata": {},
   "outputs": [],
   "source": [
    "s = 'My Name Is sandeep'"
   ]
  },
  {
   "cell_type": "code",
   "execution_count": 52,
   "id": "b1e91929",
   "metadata": {},
   "outputs": [
    {
     "data": {
      "text/plain": [
       "['My', 'Name', 'Is', 'sandeep']"
      ]
     },
     "execution_count": 52,
     "metadata": {},
     "output_type": "execute_result"
    }
   ],
   "source": [
    "s.split()"
   ]
  },
  {
   "cell_type": "code",
   "execution_count": 53,
   "id": "9e339c26",
   "metadata": {},
   "outputs": [],
   "source": [
    "a = 'sand,my i and ,you'"
   ]
  },
  {
   "cell_type": "code",
   "execution_count": 54,
   "id": "d1aedbf7",
   "metadata": {},
   "outputs": [
    {
     "data": {
      "text/plain": [
       "['sand', 'my i and ', 'you']"
      ]
     },
     "execution_count": 54,
     "metadata": {},
     "output_type": "execute_result"
    }
   ],
   "source": [
    "a.split(',')"
   ]
  },
  {
   "cell_type": "code",
   "execution_count": 55,
   "id": "a9cdad3f",
   "metadata": {},
   "outputs": [
    {
     "data": {
      "text/plain": [
       "'SAND,MY I AND ,YOU'"
      ]
     },
     "execution_count": 55,
     "metadata": {},
     "output_type": "execute_result"
    }
   ],
   "source": [
    "a.upper()"
   ]
  },
  {
   "cell_type": "code",
   "execution_count": 56,
   "id": "f5665339",
   "metadata": {},
   "outputs": [
    {
     "data": {
      "text/plain": [
       "'my name is sandeep'"
      ]
     },
     "execution_count": 56,
     "metadata": {},
     "output_type": "execute_result"
    }
   ],
   "source": [
    "s.lower()"
   ]
  },
  {
   "cell_type": "code",
   "execution_count": 57,
   "id": "24b4b8c1",
   "metadata": {},
   "outputs": [
    {
     "data": {
      "text/plain": [
       "'mY nAME iS SANDEEP'"
      ]
     },
     "execution_count": 57,
     "metadata": {},
     "output_type": "execute_result"
    }
   ],
   "source": [
    "s.swapcase()"
   ]
  },
  {
   "cell_type": "code",
   "execution_count": 58,
   "id": "e0cb510b",
   "metadata": {},
   "outputs": [
    {
     "data": {
      "text/plain": [
       "'SAND,MY I AND ,YOU'"
      ]
     },
     "execution_count": 58,
     "metadata": {},
     "output_type": "execute_result"
    }
   ],
   "source": [
    "a.swapcase()"
   ]
  },
  {
   "cell_type": "code",
   "execution_count": 59,
   "id": "1a667a4a",
   "metadata": {},
   "outputs": [
    {
     "data": {
      "text/plain": [
       "'M y   N a m e   I s   s a n d e e p'"
      ]
     },
     "execution_count": 59,
     "metadata": {},
     "output_type": "execute_result"
    }
   ],
   "source": [
    "\" \".join(s)"
   ]
  },
  {
   "cell_type": "code",
   "execution_count": 60,
   "id": "0c5937a6",
   "metadata": {},
   "outputs": [
    {
     "data": {
      "text/plain": [
       "'Msys sNsasmses sIsss sssasnsdsesesp'"
      ]
     },
     "execution_count": 60,
     "metadata": {},
     "output_type": "execute_result"
    }
   ],
   "source": [
    "'s'.join(s)"
   ]
  },
  {
   "cell_type": "code",
   "execution_count": 67,
   "id": "e3df1898",
   "metadata": {},
   "outputs": [
    {
     "data": {
      "text/plain": [
       "['p',\n",
       " 'e',\n",
       " 'e',\n",
       " 'd',\n",
       " 'n',\n",
       " 'a',\n",
       " 's',\n",
       " ' ',\n",
       " 's',\n",
       " 'I',\n",
       " ' ',\n",
       " 'e',\n",
       " 'm',\n",
       " 'a',\n",
       " 'N',\n",
       " ' ',\n",
       " 'y',\n",
       " 'M']"
      ]
     },
     "execution_count": 67,
     "metadata": {},
     "output_type": "execute_result"
    }
   ],
   "source": [
    "list(reversed(s))"
   ]
  },
  {
   "cell_type": "code",
   "execution_count": 68,
   "id": "c9818295",
   "metadata": {},
   "outputs": [
    {
     "name": "stdout",
     "output_type": "stream",
     "text": [
      "peednas sI emaN yM"
     ]
    }
   ],
   "source": [
    "for i in reversed(s):\n",
    "    print(i,end='')"
   ]
  },
  {
   "cell_type": "code",
   "execution_count": 69,
   "id": "c10bb9c5",
   "metadata": {},
   "outputs": [
    {
     "data": {
      "text/plain": [
       "'sudh'"
      ]
     },
     "execution_count": 69,
     "metadata": {},
     "output_type": "execute_result"
    }
   ],
   "source": [
    "s = \" sudh \"\n",
    "s.strip()"
   ]
  },
  {
   "cell_type": "code",
   "execution_count": 70,
   "id": "08e6d07d",
   "metadata": {},
   "outputs": [
    {
     "data": {
      "text/plain": [
       "' sudh '"
      ]
     },
     "execution_count": 70,
     "metadata": {},
     "output_type": "execute_result"
    }
   ],
   "source": [
    "s"
   ]
  },
  {
   "cell_type": "code",
   "execution_count": 71,
   "id": "2a0f4148",
   "metadata": {},
   "outputs": [
    {
     "data": {
      "text/plain": [
       "'sande  p'"
      ]
     },
     "execution_count": 71,
     "metadata": {},
     "output_type": "execute_result"
    }
   ],
   "source": [
    "s = '     sande  p'\n",
    "s.strip()"
   ]
  },
  {
   "cell_type": "code",
   "execution_count": 72,
   "id": "057b5476",
   "metadata": {},
   "outputs": [
    {
     "data": {
      "text/plain": [
       "'sande  p'"
      ]
     },
     "execution_count": 72,
     "metadata": {},
     "output_type": "execute_result"
    }
   ],
   "source": [
    "s.lstrip()"
   ]
  },
  {
   "cell_type": "code",
   "execution_count": 73,
   "id": "f883e955",
   "metadata": {},
   "outputs": [
    {
     "data": {
      "text/plain": [
       "'sandeep             '"
      ]
     },
     "execution_count": 73,
     "metadata": {},
     "output_type": "execute_result"
    }
   ],
   "source": [
    "s = 'sandeep             '\n",
    "s"
   ]
  },
  {
   "cell_type": "code",
   "execution_count": 74,
   "id": "c133959f",
   "metadata": {},
   "outputs": [
    {
     "data": {
      "text/plain": [
       "'sandeep'"
      ]
     },
     "execution_count": 74,
     "metadata": {},
     "output_type": "execute_result"
    }
   ],
   "source": [
    "s.rstrip()"
   ]
  },
  {
   "cell_type": "code",
   "execution_count": 75,
   "id": "fe6cf66b",
   "metadata": {},
   "outputs": [],
   "source": [
    "s = 'Greeting from ineuron'"
   ]
  },
  {
   "cell_type": "code",
   "execution_count": 79,
   "id": "6e1f0449",
   "metadata": {},
   "outputs": [],
   "source": [
    "c = s.replace('e','s')"
   ]
  },
  {
   "cell_type": "code",
   "execution_count": 78,
   "id": "eb045382",
   "metadata": {},
   "outputs": [
    {
     "data": {
      "text/plain": [
       "'Greeting from ineuron'"
      ]
     },
     "execution_count": 78,
     "metadata": {},
     "output_type": "execute_result"
    }
   ],
   "source": [
    "s"
   ]
  },
  {
   "cell_type": "code",
   "execution_count": 80,
   "id": "8fc997a0",
   "metadata": {},
   "outputs": [
    {
     "data": {
      "text/plain": [
       "'Grssting from insuron'"
      ]
     },
     "execution_count": 80,
     "metadata": {},
     "output_type": "execute_result"
    }
   ],
   "source": [
    "c"
   ]
  },
  {
   "cell_type": "code",
   "execution_count": 81,
   "id": "a7130e5c",
   "metadata": {},
   "outputs": [
    {
     "data": {
      "text/plain": [
       "'sandssp'"
      ]
     },
     "execution_count": 81,
     "metadata": {},
     "output_type": "execute_result"
    }
   ],
   "source": [
    "s = 'sandeep'\n",
    "s.replace('e','s')"
   ]
  },
  {
   "cell_type": "code",
   "execution_count": 82,
   "id": "c5eca4a2",
   "metadata": {},
   "outputs": [
    {
     "data": {
      "text/plain": [
       "'sandeep'"
      ]
     },
     "execution_count": 82,
     "metadata": {},
     "output_type": "execute_result"
    }
   ],
   "source": [
    "s"
   ]
  },
  {
   "cell_type": "code",
   "execution_count": 83,
   "id": "71a38fb1",
   "metadata": {},
   "outputs": [],
   "source": [
    "s = 'sand'"
   ]
  },
  {
   "cell_type": "code",
   "execution_count": 85,
   "id": "0d5a94fb",
   "metadata": {},
   "outputs": [
    {
     "data": {
      "text/plain": [
       "'bbbbbbbbsandbbbbbbbb'"
      ]
     },
     "execution_count": 85,
     "metadata": {},
     "output_type": "execute_result"
    }
   ],
   "source": [
    "s.center(20,'b')"
   ]
  },
  {
   "cell_type": "code",
   "execution_count": 86,
   "id": "b5ea4b14",
   "metadata": {},
   "outputs": [
    {
     "data": {
      "text/plain": [
       "'sudh\\tkumar'"
      ]
     },
     "execution_count": 86,
     "metadata": {},
     "output_type": "execute_result"
    }
   ],
   "source": [
    "s = 'sudh\\tkumar'\n",
    "s"
   ]
  },
  {
   "cell_type": "code",
   "execution_count": 87,
   "id": "d20f38ee",
   "metadata": {},
   "outputs": [
    {
     "data": {
      "text/plain": [
       "'sudh    kumar'"
      ]
     },
     "execution_count": 87,
     "metadata": {},
     "output_type": "execute_result"
    }
   ],
   "source": [
    "s.expandtabs()"
   ]
  },
  {
   "cell_type": "code",
   "execution_count": 90,
   "id": "5d5771a1",
   "metadata": {},
   "outputs": [
    {
     "name": "stdout",
     "output_type": "stream",
     "text": [
      "we all are a part of fullstack\n",
      "5\n"
     ]
    }
   ],
   "source": [
    "a = 'we all are a part of FullStack'\n",
    "print(a.lower())\n",
    "print(a.count('a'))"
   ]
  },
  {
   "cell_type": "code",
   "execution_count": 100,
   "id": "c31296d0",
   "metadata": {},
   "outputs": [
    {
     "name": "stdout",
     "output_type": "stream",
     "text": [
      "3\n",
      "7\n",
      "11\n",
      "14\n",
      "27\n"
     ]
    }
   ],
   "source": [
    "for i in range(len(a)):\n",
    "    if a[i] == 'a':\n",
    "        print(i)"
   ]
  },
  {
   "cell_type": "code",
   "execution_count": 103,
   "id": "4aeb7b6b",
   "metadata": {},
   "outputs": [
    {
     "data": {
      "text/plain": [
       "'we ineuronll ineuronre ineuron pineuronrt of FullStineuronck'"
      ]
     },
     "execution_count": 103,
     "metadata": {},
     "output_type": "execute_result"
    }
   ],
   "source": [
    "a.replace('a','ineuron')"
   ]
  },
  {
   "cell_type": "code",
   "execution_count": 104,
   "id": "b53bae9f",
   "metadata": {},
   "outputs": [
    {
     "data": {
      "text/plain": [
       "['we', 'all', 'are', 'a', 'part', 'of', 'FullStack']"
      ]
     },
     "execution_count": 104,
     "metadata": {},
     "output_type": "execute_result"
    }
   ],
   "source": [
    "a.split(' ')"
   ]
  },
  {
   "cell_type": "code",
   "execution_count": 105,
   "id": "1aa76a8d",
   "metadata": {},
   "outputs": [
    {
     "data": {
      "text/plain": [
       "False"
      ]
     },
     "execution_count": 105,
     "metadata": {},
     "output_type": "execute_result"
    }
   ],
   "source": [
    "s.isupper()"
   ]
  },
  {
   "cell_type": "code",
   "execution_count": 106,
   "id": "c3bf65a3",
   "metadata": {},
   "outputs": [
    {
     "data": {
      "text/plain": [
       "True"
      ]
     },
     "execution_count": 106,
     "metadata": {},
     "output_type": "execute_result"
    }
   ],
   "source": [
    "s.islower()"
   ]
  },
  {
   "cell_type": "code",
   "execution_count": 107,
   "id": "361d7c0f",
   "metadata": {},
   "outputs": [
    {
     "data": {
      "text/plain": [
       "False"
      ]
     },
     "execution_count": 107,
     "metadata": {},
     "output_type": "execute_result"
    }
   ],
   "source": [
    "s.isspace()"
   ]
  },
  {
   "cell_type": "code",
   "execution_count": 108,
   "id": "34ba1143",
   "metadata": {},
   "outputs": [
    {
     "data": {
      "text/plain": [
       "False"
      ]
     },
     "execution_count": 108,
     "metadata": {},
     "output_type": "execute_result"
    }
   ],
   "source": [
    "s.isdigit()"
   ]
  },
  {
   "cell_type": "code",
   "execution_count": 109,
   "id": "2d813e3d",
   "metadata": {},
   "outputs": [
    {
     "data": {
      "text/plain": [
       "False"
      ]
     },
     "execution_count": 109,
     "metadata": {},
     "output_type": "execute_result"
    }
   ],
   "source": [
    "s.endswith('a')"
   ]
  },
  {
   "cell_type": "code",
   "execution_count": 110,
   "id": "c9a2583f",
   "metadata": {},
   "outputs": [
    {
     "data": {
      "text/plain": [
       "'we all are a part of FullStack'"
      ]
     },
     "execution_count": 110,
     "metadata": {},
     "output_type": "execute_result"
    }
   ],
   "source": [
    "a"
   ]
  },
  {
   "cell_type": "code",
   "execution_count": 111,
   "id": "5a85b1b6",
   "metadata": {},
   "outputs": [
    {
     "data": {
      "text/plain": [
       "'sudh\\tkumar'"
      ]
     },
     "execution_count": 111,
     "metadata": {},
     "output_type": "execute_result"
    }
   ],
   "source": [
    "s"
   ]
  },
  {
   "cell_type": "code",
   "execution_count": 112,
   "id": "ad5136d8",
   "metadata": {},
   "outputs": [
    {
     "data": {
      "text/plain": [
       "True"
      ]
     },
     "execution_count": 112,
     "metadata": {},
     "output_type": "execute_result"
    }
   ],
   "source": [
    "s.endswith('r')"
   ]
  },
  {
   "cell_type": "code",
   "execution_count": 113,
   "id": "6f0d5bb4",
   "metadata": {},
   "outputs": [
    {
     "data": {
      "text/plain": [
       "True"
      ]
     },
     "execution_count": 113,
     "metadata": {},
     "output_type": "execute_result"
    }
   ],
   "source": [
    "s.startswith('s')"
   ]
  },
  {
   "cell_type": "code",
   "execution_count": 114,
   "id": "c48d894b",
   "metadata": {},
   "outputs": [
    {
     "data": {
      "text/plain": [
       "False"
      ]
     },
     "execution_count": 114,
     "metadata": {},
     "output_type": "execute_result"
    }
   ],
   "source": [
    "s.istitle()"
   ]
  },
  {
   "cell_type": "code",
   "execution_count": 115,
   "id": "91778198",
   "metadata": {},
   "outputs": [
    {
     "data": {
      "text/plain": [
       "False"
      ]
     },
     "execution_count": 115,
     "metadata": {},
     "output_type": "execute_result"
    }
   ],
   "source": [
    "s.istitle()"
   ]
  },
  {
   "cell_type": "code",
   "execution_count": 116,
   "id": "2aeec58d",
   "metadata": {},
   "outputs": [],
   "source": [
    "s = 'This is a Full Stack batch'"
   ]
  },
  {
   "cell_type": "code",
   "execution_count": 118,
   "id": "92108fe6",
   "metadata": {},
   "outputs": [
    {
     "name": "stdout",
     "output_type": "stream",
     "text": [
      "T\n",
      "h\n",
      "i\n",
      "s\n",
      " \n",
      "i\n",
      "s\n",
      " \n",
      "a\n",
      " \n",
      "F\n",
      "u\n",
      "l\n",
      "l\n",
      " \n",
      "S\n",
      "t\n",
      "a\n",
      "c\n",
      "k\n",
      " \n",
      "b\n",
      "a\n",
      "t\n",
      "c\n",
      "h\n",
      "26\n"
     ]
    }
   ],
   "source": [
    "count = 0\n",
    "for i in s:\n",
    "    print(i)\n",
    "    count+=1\n",
    "print(count)"
   ]
  },
  {
   "cell_type": "code",
   "execution_count": 119,
   "id": "c0435462",
   "metadata": {},
   "outputs": [
    {
     "name": "stdout",
     "output_type": "stream",
     "text": [
      "T\n",
      "h\n",
      "i\n",
      "s\n",
      " \n",
      "i\n",
      "s\n",
      " \n",
      "a\n",
      " \n",
      "F\n",
      "u\n",
      "l\n",
      "l\n",
      " \n",
      "S\n",
      "t\n",
      "a\n",
      "c\n",
      "k\n",
      " \n",
      "b\n",
      "a\n",
      "t\n",
      "c\n",
      "h\n"
     ]
    }
   ],
   "source": [
    "for i in s:\n",
    "    print(i)"
   ]
  },
  {
   "cell_type": "code",
   "execution_count": 121,
   "id": "aa9c27b8",
   "metadata": {},
   "outputs": [
    {
     "name": "stdout",
     "output_type": "stream",
     "text": [
      "T\n",
      "h\n",
      "i\n",
      "s\n",
      " \n",
      "i\n",
      "s\n",
      " \n",
      "a\n",
      " \n",
      "F\n",
      "u\n",
      "l\n",
      "l\n",
      " \n",
      "S\n",
      "t\n",
      "a\n",
      "c\n",
      "k\n",
      " \n",
      "b\n",
      "a\n",
      "t\n",
      "c\n",
      "h\n"
     ]
    }
   ],
   "source": [
    "for i in range(len(s)):\n",
    "    print(s[i])"
   ]
  },
  {
   "cell_type": "code",
   "execution_count": 122,
   "id": "a22bc565",
   "metadata": {},
   "outputs": [
    {
     "name": "stdout",
     "output_type": "stream",
     "text": [
      "d\n",
      "n\n",
      "a\n",
      "S\n"
     ]
    }
   ],
   "source": [
    "s = 'Sand'\n",
    "\n",
    "ch = len(s)-1\n",
    "while ch >=0:\n",
    "    print(s[ch])\n",
    "    ch = ch-1\n",
    "    "
   ]
  },
  {
   "cell_type": "code",
   "execution_count": 123,
   "id": "59cd5c36",
   "metadata": {},
   "outputs": [
    {
     "name": "stdout",
     "output_type": "stream",
     "text": [
      "i\n",
      "e\n",
      "u\n",
      "o\n"
     ]
    }
   ],
   "source": [
    "name = 'ineuron'\n",
    "vowels = 'AaEeIiOoUu'\n",
    "for i in name:\n",
    "    if i in vowels:\n",
    "        print(i)\n",
    "        continue"
   ]
  },
  {
   "cell_type": "code",
   "execution_count": 124,
   "id": "2aa243d9",
   "metadata": {},
   "outputs": [
    {
     "name": "stdout",
     "output_type": "stream",
     "text": [
      "enter name: sandeep\n",
      "sandeep is my name\n"
     ]
    }
   ],
   "source": [
    "a = input(\"enter name: \")\n",
    "print('{} is my name'.format(a))"
   ]
  },
  {
   "cell_type": "code",
   "execution_count": 125,
   "id": "d6745b6f",
   "metadata": {},
   "outputs": [],
   "source": [
    "a = 'xyx'\n",
    "b = 2002\n",
    "c = 'eye'\n",
    "d = 'nitin'"
   ]
  },
  {
   "cell_type": "code",
   "execution_count": 127,
   "id": "86949be2",
   "metadata": {},
   "outputs": [
    {
     "name": "stdout",
     "output_type": "stream",
     "text": [
      "Enter the data for which you would check for a palindrome: abc\n",
      "it is not same\n"
     ]
    }
   ],
   "source": [
    "s = input('Enter the data for which you would check for a palindrome: ')\n",
    "if s == s[::-1]:\n",
    "    print('It is a palindrome')\n",
    "else:\n",
    "    print('it is not same')"
   ]
  },
  {
   "cell_type": "code",
   "execution_count": 142,
   "id": "94138464",
   "metadata": {},
   "outputs": [],
   "source": [
    "l = ['sand',56,25,'mahesh',[56,5]]\n"
   ]
  },
  {
   "cell_type": "code",
   "execution_count": 129,
   "id": "be3f56d9",
   "metadata": {},
   "outputs": [
    {
     "data": {
      "text/plain": [
       "'mahesh'"
      ]
     },
     "execution_count": 129,
     "metadata": {},
     "output_type": "execute_result"
    }
   ],
   "source": [
    "l[3]"
   ]
  },
  {
   "cell_type": "code",
   "execution_count": 130,
   "id": "ee38aaa4",
   "metadata": {},
   "outputs": [
    {
     "data": {
      "text/plain": [
       "['sand', 56, 25]"
      ]
     },
     "execution_count": 130,
     "metadata": {},
     "output_type": "execute_result"
    }
   ],
   "source": [
    "l[0:3]"
   ]
  },
  {
   "cell_type": "code",
   "execution_count": 131,
   "id": "39142025",
   "metadata": {},
   "outputs": [
    {
     "data": {
      "text/plain": [
       "['mahesh', 25, 56]"
      ]
     },
     "execution_count": 131,
     "metadata": {},
     "output_type": "execute_result"
    }
   ],
   "source": [
    "l[3:0:-1]"
   ]
  },
  {
   "cell_type": "code",
   "execution_count": 132,
   "id": "9a4b69b7",
   "metadata": {},
   "outputs": [
    {
     "data": {
      "text/plain": [
       "[[56, 5], 'mahesh', 25, 56, 'sand']"
      ]
     },
     "execution_count": 132,
     "metadata": {},
     "output_type": "execute_result"
    }
   ],
   "source": [
    "l[::-1]"
   ]
  },
  {
   "cell_type": "code",
   "execution_count": 143,
   "id": "cf2fcdc1",
   "metadata": {},
   "outputs": [
    {
     "ename": "TypeError",
     "evalue": "can only concatenate list (not \"str\") to list",
     "output_type": "error",
     "traceback": [
      "\u001b[0;31m---------------------------------------------------------------------------\u001b[0m",
      "\u001b[0;31mTypeError\u001b[0m                                 Traceback (most recent call last)",
      "\u001b[0;32m<ipython-input-143-b9a2a5ba8a70>\u001b[0m in \u001b[0;36m<module>\u001b[0;34m\u001b[0m\n\u001b[1;32m      1\u001b[0m \u001b[0ms\u001b[0m \u001b[0;34m=\u001b[0m \u001b[0;34m'sudh'\u001b[0m\u001b[0;34m\u001b[0m\u001b[0;34m\u001b[0m\u001b[0m\n\u001b[0;32m----> 2\u001b[0;31m \u001b[0ml\u001b[0m \u001b[0;34m+\u001b[0m \u001b[0ms\u001b[0m\u001b[0;34m\u001b[0m\u001b[0;34m\u001b[0m\u001b[0m\n\u001b[0m",
      "\u001b[0;31mTypeError\u001b[0m: can only concatenate list (not \"str\") to list"
     ]
    }
   ],
   "source": [
    "s = 'sudh'\n",
    "l + s"
   ]
  },
  {
   "cell_type": "code",
   "execution_count": 144,
   "id": "c75372dc",
   "metadata": {},
   "outputs": [
    {
     "data": {
      "text/plain": [
       "['sand', 56, 25, 'mahesh', [56, 5], 's', 'u', 'd', 'h']"
      ]
     },
     "execution_count": 144,
     "metadata": {},
     "output_type": "execute_result"
    }
   ],
   "source": [
    "l + list(s)"
   ]
  },
  {
   "cell_type": "code",
   "execution_count": 145,
   "id": "d61d0cad",
   "metadata": {},
   "outputs": [
    {
     "data": {
      "text/plain": [
       "['sand', 56, 25, 'mahesh', [56, 5], 'sudh']"
      ]
     },
     "execution_count": 145,
     "metadata": {},
     "output_type": "execute_result"
    }
   ],
   "source": [
    "l + list([s])"
   ]
  },
  {
   "cell_type": "code",
   "execution_count": 146,
   "id": "f0e76ead",
   "metadata": {},
   "outputs": [
    {
     "data": {
      "text/plain": [
       "['sand', 56, 25, 'mahesh', [56, 5], 'sand']"
      ]
     },
     "execution_count": 146,
     "metadata": {},
     "output_type": "execute_result"
    }
   ],
   "source": [
    "s = ['sand']\n",
    "l + s"
   ]
  },
  {
   "cell_type": "code",
   "execution_count": 147,
   "id": "bc09a1ff",
   "metadata": {},
   "outputs": [
    {
     "data": {
      "text/plain": [
       "['sand',\n",
       " 56,\n",
       " 25,\n",
       " 'mahesh',\n",
       " [56, 5],\n",
       " 'sand',\n",
       " 56,\n",
       " 25,\n",
       " 'mahesh',\n",
       " [56, 5],\n",
       " 'sand',\n",
       " 56,\n",
       " 25,\n",
       " 'mahesh',\n",
       " [56, 5],\n",
       " 'sand',\n",
       " 56,\n",
       " 25,\n",
       " 'mahesh',\n",
       " [56, 5],\n",
       " 'sand',\n",
       " 56,\n",
       " 25,\n",
       " 'mahesh',\n",
       " [56, 5],\n",
       " 'sand',\n",
       " 56,\n",
       " 25,\n",
       " 'mahesh',\n",
       " [56, 5]]"
      ]
     },
     "execution_count": 147,
     "metadata": {},
     "output_type": "execute_result"
    }
   ],
   "source": [
    "l * 6"
   ]
  },
  {
   "cell_type": "code",
   "execution_count": 148,
   "id": "64f15fcc",
   "metadata": {},
   "outputs": [
    {
     "data": {
      "text/plain": [
       "5"
      ]
     },
     "execution_count": 148,
     "metadata": {},
     "output_type": "execute_result"
    }
   ],
   "source": [
    "len(l)"
   ]
  },
  {
   "cell_type": "code",
   "execution_count": 149,
   "id": "2df084bf",
   "metadata": {},
   "outputs": [
    {
     "data": {
      "text/plain": [
       "True"
      ]
     },
     "execution_count": 149,
     "metadata": {},
     "output_type": "execute_result"
    }
   ],
   "source": [
    "'sand' in l"
   ]
  },
  {
   "cell_type": "code",
   "execution_count": 150,
   "id": "32cfef29",
   "metadata": {},
   "outputs": [
    {
     "data": {
      "text/plain": [
       "False"
      ]
     },
     "execution_count": 150,
     "metadata": {},
     "output_type": "execute_result"
    }
   ],
   "source": [
    "60 in l"
   ]
  },
  {
   "cell_type": "code",
   "execution_count": null,
   "id": "a7eeb5b7",
   "metadata": {},
   "outputs": [],
   "source": []
  }
 ],
 "metadata": {
  "kernelspec": {
   "display_name": "Python 3",
   "language": "python",
   "name": "python3"
  },
  "language_info": {
   "codemirror_mode": {
    "name": "ipython",
    "version": 3
   },
   "file_extension": ".py",
   "mimetype": "text/x-python",
   "name": "python",
   "nbconvert_exporter": "python",
   "pygments_lexer": "ipython3",
   "version": "3.8.8"
  }
 },
 "nbformat": 4,
 "nbformat_minor": 5
}
