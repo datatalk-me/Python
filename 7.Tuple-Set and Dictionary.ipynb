{
 "cells": [
  {
   "cell_type": "code",
   "execution_count": 1,
   "id": "993df12d",
   "metadata": {},
   "outputs": [],
   "source": [
    "t = ()"
   ]
  },
  {
   "cell_type": "code",
   "execution_count": 2,
   "id": "002b53d7",
   "metadata": {},
   "outputs": [
    {
     "data": {
      "text/plain": [
       "tuple"
      ]
     },
     "execution_count": 2,
     "metadata": {},
     "output_type": "execute_result"
    }
   ],
   "source": [
    "type(t)"
   ]
  },
  {
   "cell_type": "code",
   "execution_count": 3,
   "id": "dd594c23",
   "metadata": {},
   "outputs": [],
   "source": [
    "l = []"
   ]
  },
  {
   "cell_type": "code",
   "execution_count": 4,
   "id": "14f3317a",
   "metadata": {},
   "outputs": [
    {
     "data": {
      "text/plain": [
       "list"
      ]
     },
     "execution_count": 4,
     "metadata": {},
     "output_type": "execute_result"
    }
   ],
   "source": [
    "type(l)"
   ]
  },
  {
   "cell_type": "code",
   "execution_count": 5,
   "id": "8d68bc17",
   "metadata": {},
   "outputs": [],
   "source": [
    "t1 = (24,51,'sand',True)"
   ]
  },
  {
   "cell_type": "code",
   "execution_count": 6,
   "id": "ff7c2667",
   "metadata": {},
   "outputs": [],
   "source": [
    "l1 = [24,51,'sand',True]"
   ]
  },
  {
   "cell_type": "code",
   "execution_count": 7,
   "id": "27eb32e8",
   "metadata": {},
   "outputs": [
    {
     "data": {
      "text/plain": [
       "24"
      ]
     },
     "execution_count": 7,
     "metadata": {},
     "output_type": "execute_result"
    }
   ],
   "source": [
    "t1[0]"
   ]
  },
  {
   "cell_type": "code",
   "execution_count": 9,
   "id": "424ffc16",
   "metadata": {},
   "outputs": [
    {
     "ename": "IndexError",
     "evalue": "tuple index out of range",
     "output_type": "error",
     "traceback": [
      "\u001b[0;31m---------------------------------------------------------------------------\u001b[0m",
      "\u001b[0;31mIndexError\u001b[0m                                Traceback (most recent call last)",
      "\u001b[0;32m<ipython-input-9-abe8afece326>\u001b[0m in \u001b[0;36m<module>\u001b[0;34m\u001b[0m\n\u001b[0;32m----> 1\u001b[0;31m \u001b[0mt1\u001b[0m\u001b[0;34m[\u001b[0m\u001b[0;36m5\u001b[0m\u001b[0;34m]\u001b[0m\u001b[0;34m\u001b[0m\u001b[0;34m\u001b[0m\u001b[0m\n\u001b[0m",
      "\u001b[0;31mIndexError\u001b[0m: tuple index out of range"
     ]
    }
   ],
   "source": [
    "t1[5]"
   ]
  },
  {
   "cell_type": "code",
   "execution_count": 10,
   "id": "31ef9efc",
   "metadata": {},
   "outputs": [
    {
     "data": {
      "text/plain": [
       "(24, 51, 'sand', True)"
      ]
     },
     "execution_count": 10,
     "metadata": {},
     "output_type": "execute_result"
    }
   ],
   "source": [
    "t1[0:4]"
   ]
  },
  {
   "cell_type": "code",
   "execution_count": 11,
   "id": "fc549188",
   "metadata": {},
   "outputs": [
    {
     "data": {
      "text/plain": [
       "(True, 'sand', 51, 24)"
      ]
     },
     "execution_count": 11,
     "metadata": {},
     "output_type": "execute_result"
    }
   ],
   "source": [
    "t1[::-1]"
   ]
  },
  {
   "cell_type": "code",
   "execution_count": 12,
   "id": "2680aceb",
   "metadata": {},
   "outputs": [
    {
     "data": {
      "text/plain": [
       "True"
      ]
     },
     "execution_count": 12,
     "metadata": {},
     "output_type": "execute_result"
    }
   ],
   "source": [
    "t1[-1]"
   ]
  },
  {
   "cell_type": "code",
   "execution_count": 13,
   "id": "4804215b",
   "metadata": {},
   "outputs": [
    {
     "data": {
      "text/plain": [
       "24"
      ]
     },
     "execution_count": 13,
     "metadata": {},
     "output_type": "execute_result"
    }
   ],
   "source": [
    "l1[0]"
   ]
  },
  {
   "cell_type": "code",
   "execution_count": 14,
   "id": "14959046",
   "metadata": {},
   "outputs": [],
   "source": [
    "l1[0] = 'Rayudu'"
   ]
  },
  {
   "cell_type": "code",
   "execution_count": 15,
   "id": "6e3fafad",
   "metadata": {},
   "outputs": [
    {
     "data": {
      "text/plain": [
       "['Rayudu', 51, 'sand', True]"
      ]
     },
     "execution_count": 15,
     "metadata": {},
     "output_type": "execute_result"
    }
   ],
   "source": [
    "l1"
   ]
  },
  {
   "cell_type": "code",
   "execution_count": 16,
   "id": "52f2b3c2",
   "metadata": {},
   "outputs": [
    {
     "data": {
      "text/plain": [
       "(24, 51, 'sand', True)"
      ]
     },
     "execution_count": 16,
     "metadata": {},
     "output_type": "execute_result"
    }
   ],
   "source": [
    "t1"
   ]
  },
  {
   "cell_type": "code",
   "execution_count": 18,
   "id": "41a87261",
   "metadata": {},
   "outputs": [
    {
     "ename": "TypeError",
     "evalue": "'tuple' object does not support item assignment",
     "output_type": "error",
     "traceback": [
      "\u001b[0;31m---------------------------------------------------------------------------\u001b[0m",
      "\u001b[0;31mTypeError\u001b[0m                                 Traceback (most recent call last)",
      "\u001b[0;32m<ipython-input-18-3b015ebbbeaf>\u001b[0m in \u001b[0;36m<module>\u001b[0;34m\u001b[0m\n\u001b[0;32m----> 1\u001b[0;31m \u001b[0mt1\u001b[0m\u001b[0;34m[\u001b[0m\u001b[0;36m0\u001b[0m\u001b[0;34m]\u001b[0m \u001b[0;34m=\u001b[0m \u001b[0;34m'Rayudu'\u001b[0m\u001b[0;34m\u001b[0m\u001b[0;34m\u001b[0m\u001b[0m\n\u001b[0m",
      "\u001b[0;31mTypeError\u001b[0m: 'tuple' object does not support item assignment"
     ]
    }
   ],
   "source": [
    "t1[0] = 'Rayudu'"
   ]
  },
  {
   "cell_type": "code",
   "execution_count": 19,
   "id": "0df4952c",
   "metadata": {},
   "outputs": [],
   "source": [
    "t2 = (234,54,562)"
   ]
  },
  {
   "cell_type": "code",
   "execution_count": 20,
   "id": "4f806bb4",
   "metadata": {},
   "outputs": [
    {
     "data": {
      "text/plain": [
       "(24, 51, 'sand', True, 234, 54, 562)"
      ]
     },
     "execution_count": 20,
     "metadata": {},
     "output_type": "execute_result"
    }
   ],
   "source": [
    "t1 + t2"
   ]
  },
  {
   "cell_type": "code",
   "execution_count": 21,
   "id": "3cabc853",
   "metadata": {},
   "outputs": [
    {
     "data": {
      "text/plain": [
       "(24,\n",
       " 51,\n",
       " 'sand',\n",
       " True,\n",
       " 24,\n",
       " 51,\n",
       " 'sand',\n",
       " True,\n",
       " 24,\n",
       " 51,\n",
       " 'sand',\n",
       " True,\n",
       " 24,\n",
       " 51,\n",
       " 'sand',\n",
       " True)"
      ]
     },
     "execution_count": 21,
     "metadata": {},
     "output_type": "execute_result"
    }
   ],
   "source": [
    "t1 * 4"
   ]
  },
  {
   "cell_type": "code",
   "execution_count": 22,
   "id": "38b8bc7c",
   "metadata": {},
   "outputs": [
    {
     "data": {
      "text/plain": [
       "(24, 51, 'sand', True)"
      ]
     },
     "execution_count": 22,
     "metadata": {},
     "output_type": "execute_result"
    }
   ],
   "source": [
    "t1"
   ]
  },
  {
   "cell_type": "code",
   "execution_count": 23,
   "id": "7bc44594",
   "metadata": {},
   "outputs": [
    {
     "data": {
      "text/plain": [
       "False"
      ]
     },
     "execution_count": 23,
     "metadata": {},
     "output_type": "execute_result"
    }
   ],
   "source": [
    "34 in t1"
   ]
  },
  {
   "cell_type": "code",
   "execution_count": 24,
   "id": "9c1394e8",
   "metadata": {},
   "outputs": [
    {
     "data": {
      "text/plain": [
       "True"
      ]
     },
     "execution_count": 24,
     "metadata": {},
     "output_type": "execute_result"
    }
   ],
   "source": [
    "'sand' in t1"
   ]
  },
  {
   "cell_type": "code",
   "execution_count": 25,
   "id": "988ea2f7",
   "metadata": {},
   "outputs": [
    {
     "ename": "TypeError",
     "evalue": "'>' not supported between instances of 'str' and 'int'",
     "output_type": "error",
     "traceback": [
      "\u001b[0;31m---------------------------------------------------------------------------\u001b[0m",
      "\u001b[0;31mTypeError\u001b[0m                                 Traceback (most recent call last)",
      "\u001b[0;32m<ipython-input-25-07c1bf72392e>\u001b[0m in \u001b[0;36m<module>\u001b[0;34m\u001b[0m\n\u001b[0;32m----> 1\u001b[0;31m \u001b[0mmax\u001b[0m\u001b[0;34m(\u001b[0m\u001b[0mt1\u001b[0m\u001b[0;34m)\u001b[0m\u001b[0;34m\u001b[0m\u001b[0;34m\u001b[0m\u001b[0m\n\u001b[0m",
      "\u001b[0;31mTypeError\u001b[0m: '>' not supported between instances of 'str' and 'int'"
     ]
    }
   ],
   "source": [
    "max(t1)"
   ]
  },
  {
   "cell_type": "code",
   "execution_count": 26,
   "id": "e9a485f9",
   "metadata": {},
   "outputs": [],
   "source": [
    "t3 = (2,5,7,96,45,111)"
   ]
  },
  {
   "cell_type": "code",
   "execution_count": 27,
   "id": "b8e3100e",
   "metadata": {},
   "outputs": [
    {
     "data": {
      "text/plain": [
       "111"
      ]
     },
     "execution_count": 27,
     "metadata": {},
     "output_type": "execute_result"
    }
   ],
   "source": [
    "max(t3)"
   ]
  },
  {
   "cell_type": "code",
   "execution_count": 28,
   "id": "9ad52e46",
   "metadata": {},
   "outputs": [],
   "source": [
    "t4 = ('a','n','z')"
   ]
  },
  {
   "cell_type": "code",
   "execution_count": 29,
   "id": "8ae2d1c2",
   "metadata": {},
   "outputs": [
    {
     "data": {
      "text/plain": [
       "'z'"
      ]
     },
     "execution_count": 29,
     "metadata": {},
     "output_type": "execute_result"
    }
   ],
   "source": [
    "max(t4)"
   ]
  },
  {
   "cell_type": "code",
   "execution_count": 30,
   "id": "1248a6ff",
   "metadata": {},
   "outputs": [
    {
     "data": {
      "text/plain": [
       "['Rayudu', 51, 'sand', True]"
      ]
     },
     "execution_count": 30,
     "metadata": {},
     "output_type": "execute_result"
    }
   ],
   "source": [
    "l1"
   ]
  },
  {
   "cell_type": "code",
   "execution_count": 31,
   "id": "d524464c",
   "metadata": {},
   "outputs": [
    {
     "data": {
      "text/plain": [
       "1"
      ]
     },
     "execution_count": 31,
     "metadata": {},
     "output_type": "execute_result"
    }
   ],
   "source": [
    "t1.index(51)"
   ]
  },
  {
   "cell_type": "code",
   "execution_count": 32,
   "id": "4f94a5d8",
   "metadata": {},
   "outputs": [
    {
     "data": {
      "text/plain": [
       "1"
      ]
     },
     "execution_count": 32,
     "metadata": {},
     "output_type": "execute_result"
    }
   ],
   "source": [
    "t1.count(51)"
   ]
  },
  {
   "cell_type": "code",
   "execution_count": 33,
   "id": "a1c72ee3",
   "metadata": {},
   "outputs": [
    {
     "data": {
      "text/plain": [
       "2"
      ]
     },
     "execution_count": 33,
     "metadata": {},
     "output_type": "execute_result"
    }
   ],
   "source": [
    "min(t3)"
   ]
  },
  {
   "cell_type": "code",
   "execution_count": 34,
   "id": "23bc3d32",
   "metadata": {},
   "outputs": [
    {
     "data": {
      "text/plain": [
       "'a'"
      ]
     },
     "execution_count": 34,
     "metadata": {},
     "output_type": "execute_result"
    }
   ],
   "source": [
    "min(t4)"
   ]
  },
  {
   "cell_type": "code",
   "execution_count": 35,
   "id": "1e4b031e",
   "metadata": {},
   "outputs": [
    {
     "data": {
      "text/plain": [
       "(24, 51, 'sand', True)"
      ]
     },
     "execution_count": 35,
     "metadata": {},
     "output_type": "execute_result"
    }
   ],
   "source": [
    "t1"
   ]
  },
  {
   "cell_type": "code",
   "execution_count": 36,
   "id": "0f8b43e7",
   "metadata": {},
   "outputs": [
    {
     "data": {
      "text/plain": [
       "[24, 51, 'sand', True]"
      ]
     },
     "execution_count": 36,
     "metadata": {},
     "output_type": "execute_result"
    }
   ],
   "source": [
    "l5 = list(t1)\n",
    "l5"
   ]
  },
  {
   "cell_type": "code",
   "execution_count": 38,
   "id": "537eadea",
   "metadata": {},
   "outputs": [],
   "source": [
    "l5.insert(0,[4,5,6,9])"
   ]
  },
  {
   "cell_type": "code",
   "execution_count": 40,
   "id": "29652dee",
   "metadata": {},
   "outputs": [],
   "source": [
    "t1 = tuple(l5)"
   ]
  },
  {
   "cell_type": "code",
   "execution_count": 41,
   "id": "4d92a00e",
   "metadata": {},
   "outputs": [
    {
     "data": {
      "text/plain": [
       "([4, 5, 6, 9], 24, 51, 'sand', True)"
      ]
     },
     "execution_count": 41,
     "metadata": {},
     "output_type": "execute_result"
    }
   ],
   "source": [
    "t1"
   ]
  },
  {
   "cell_type": "code",
   "execution_count": 42,
   "id": "e198183f",
   "metadata": {},
   "outputs": [
    {
     "data": {
      "text/plain": [
       "[4, 5, 6, 9]"
      ]
     },
     "execution_count": 42,
     "metadata": {},
     "output_type": "execute_result"
    }
   ],
   "source": [
    "t1[0]"
   ]
  },
  {
   "cell_type": "code",
   "execution_count": 43,
   "id": "425c1f2c",
   "metadata": {},
   "outputs": [],
   "source": [
    "t1[0][0] = 'sand'"
   ]
  },
  {
   "cell_type": "code",
   "execution_count": 44,
   "id": "69473dd2",
   "metadata": {},
   "outputs": [
    {
     "data": {
      "text/plain": [
       "(['sand', 5, 6, 9], 24, 51, 'sand', True)"
      ]
     },
     "execution_count": 44,
     "metadata": {},
     "output_type": "execute_result"
    }
   ],
   "source": [
    "t1"
   ]
  },
  {
   "cell_type": "code",
   "execution_count": 47,
   "id": "a991f920",
   "metadata": {},
   "outputs": [],
   "source": [
    "t = ((4,5,6),(45,56,1),('sand','mar','san'))"
   ]
  },
  {
   "cell_type": "code",
   "execution_count": 48,
   "id": "5ff97fdd",
   "metadata": {},
   "outputs": [
    {
     "data": {
      "text/plain": [
       "((4, 5, 6), (45, 56, 1), ('sand', 'mar', 'san'))"
      ]
     },
     "execution_count": 48,
     "metadata": {},
     "output_type": "execute_result"
    }
   ],
   "source": [
    "t"
   ]
  },
  {
   "cell_type": "code",
   "execution_count": 49,
   "id": "30b32f10",
   "metadata": {},
   "outputs": [
    {
     "name": "stdout",
     "output_type": "stream",
     "text": [
      "4\n",
      "45\n",
      "sand\n"
     ]
    }
   ],
   "source": [
    "for i in t:\n",
    "    if type(t) == tuple:\n",
    "        print(i[0])"
   ]
  },
  {
   "cell_type": "code",
   "execution_count": 50,
   "id": "1e49957c",
   "metadata": {},
   "outputs": [
    {
     "data": {
      "text/plain": [
       "(['sand', 5, 6, 9], 24, 51, 'sand', True)"
      ]
     },
     "execution_count": 50,
     "metadata": {},
     "output_type": "execute_result"
    }
   ],
   "source": [
    "t1"
   ]
  },
  {
   "cell_type": "code",
   "execution_count": 51,
   "id": "d45eaf8b",
   "metadata": {},
   "outputs": [
    {
     "data": {
      "text/plain": [
       "(234, 54, 562)"
      ]
     },
     "execution_count": 51,
     "metadata": {},
     "output_type": "execute_result"
    }
   ],
   "source": [
    "t2"
   ]
  },
  {
   "cell_type": "code",
   "execution_count": 52,
   "id": "008c29c8",
   "metadata": {},
   "outputs": [
    {
     "data": {
      "text/plain": [
       "5"
      ]
     },
     "execution_count": 52,
     "metadata": {},
     "output_type": "execute_result"
    }
   ],
   "source": [
    "len(t1)"
   ]
  },
  {
   "cell_type": "code",
   "execution_count": 53,
   "id": "738205cf",
   "metadata": {},
   "outputs": [
    {
     "name": "stdout",
     "output_type": "stream",
     "text": [
      "its not same\n"
     ]
    }
   ],
   "source": [
    "if len(t1) == len(t2):\n",
    "    print('its same')\n",
    "else:\n",
    "    print('its not same')"
   ]
  },
  {
   "cell_type": "code",
   "execution_count": 54,
   "id": "ff92499a",
   "metadata": {},
   "outputs": [
    {
     "data": {
      "text/plain": [
       "((4, 5, 6), (45, 56, 1), ('sand', 'mar', 'san'))"
      ]
     },
     "execution_count": 54,
     "metadata": {},
     "output_type": "execute_result"
    }
   ],
   "source": [
    "t"
   ]
  },
  {
   "cell_type": "code",
   "execution_count": 55,
   "id": "2f06df23",
   "metadata": {},
   "outputs": [
    {
     "data": {
      "text/plain": [
       "[]"
      ]
     },
     "execution_count": 55,
     "metadata": {},
     "output_type": "execute_result"
    }
   ],
   "source": [
    "l"
   ]
  },
  {
   "cell_type": "code",
   "execution_count": 56,
   "id": "308cbd18",
   "metadata": {},
   "outputs": [],
   "source": [
    "del(l1)"
   ]
  },
  {
   "cell_type": "code",
   "execution_count": 57,
   "id": "67c96f9d",
   "metadata": {},
   "outputs": [
    {
     "ename": "NameError",
     "evalue": "name 'l1' is not defined",
     "output_type": "error",
     "traceback": [
      "\u001b[0;31m---------------------------------------------------------------------------\u001b[0m",
      "\u001b[0;31mNameError\u001b[0m                                 Traceback (most recent call last)",
      "\u001b[0;32m<ipython-input-57-6cf485bc2797>\u001b[0m in \u001b[0;36m<module>\u001b[0;34m\u001b[0m\n\u001b[0;32m----> 1\u001b[0;31m \u001b[0ml1\u001b[0m\u001b[0;34m\u001b[0m\u001b[0;34m\u001b[0m\u001b[0m\n\u001b[0m",
      "\u001b[0;31mNameError\u001b[0m: name 'l1' is not defined"
     ]
    }
   ],
   "source": [
    "l1"
   ]
  },
  {
   "cell_type": "code",
   "execution_count": 58,
   "id": "aa608a6e",
   "metadata": {},
   "outputs": [],
   "source": [
    "l = [54,451,75,964]\n"
   ]
  },
  {
   "cell_type": "code",
   "execution_count": 60,
   "id": "6cb7d4cc",
   "metadata": {},
   "outputs": [
    {
     "data": {
      "text/plain": [
       "[54, 451, 75, 964]"
      ]
     },
     "execution_count": 60,
     "metadata": {},
     "output_type": "execute_result"
    }
   ],
   "source": [
    "l"
   ]
  },
  {
   "cell_type": "code",
   "execution_count": 61,
   "id": "a5b186fa",
   "metadata": {},
   "outputs": [
    {
     "data": {
      "text/plain": [
       "(['sand', 5, 6, 9], 24, 51, 'sand', True)"
      ]
     },
     "execution_count": 61,
     "metadata": {},
     "output_type": "execute_result"
    }
   ],
   "source": [
    "t1"
   ]
  },
  {
   "cell_type": "code",
   "execution_count": 62,
   "id": "96c5d9e7",
   "metadata": {},
   "outputs": [
    {
     "data": {
      "text/plain": [
       "(['sand', 5, 6, 9], 24, 51, 'sand', True)"
      ]
     },
     "execution_count": 62,
     "metadata": {},
     "output_type": "execute_result"
    }
   ],
   "source": [
    "t1"
   ]
  },
  {
   "cell_type": "code",
   "execution_count": 63,
   "id": "99449c0a",
   "metadata": {},
   "outputs": [],
   "source": [
    "x = set()"
   ]
  },
  {
   "cell_type": "code",
   "execution_count": 64,
   "id": "872d727e",
   "metadata": {},
   "outputs": [
    {
     "data": {
      "text/plain": [
       "set"
      ]
     },
     "execution_count": 64,
     "metadata": {},
     "output_type": "execute_result"
    }
   ],
   "source": [
    "type(x)"
   ]
  },
  {
   "cell_type": "code",
   "execution_count": 65,
   "id": "21c7c5c7",
   "metadata": {},
   "outputs": [],
   "source": [
    "l = [4,45,45,45,56,56,'sand','sand']\n",
    "\n",
    "x = set(l)"
   ]
  },
  {
   "cell_type": "code",
   "execution_count": 67,
   "id": "79b15d6e",
   "metadata": {},
   "outputs": [
    {
     "data": {
      "text/plain": [
       "[56, 4, 45, 'sand']"
      ]
     },
     "execution_count": 67,
     "metadata": {},
     "output_type": "execute_result"
    }
   ],
   "source": [
    "list(x)"
   ]
  },
  {
   "cell_type": "code",
   "execution_count": 73,
   "id": "83c0d0e1",
   "metadata": {},
   "outputs": [],
   "source": [
    "s = {'Sand','sand',45,45,6,5,6,12,45}"
   ]
  },
  {
   "cell_type": "code",
   "execution_count": 74,
   "id": "b4b92c21",
   "metadata": {},
   "outputs": [],
   "source": [
    "s = list(s)"
   ]
  },
  {
   "cell_type": "code",
   "execution_count": 75,
   "id": "412bbd90",
   "metadata": {},
   "outputs": [
    {
     "data": {
      "text/plain": [
       "['Sand', 5, 6, 'sand', 12, 45]"
      ]
     },
     "execution_count": 75,
     "metadata": {},
     "output_type": "execute_result"
    }
   ],
   "source": [
    "s"
   ]
  },
  {
   "cell_type": "code",
   "execution_count": 77,
   "id": "b861f286",
   "metadata": {},
   "outputs": [],
   "source": [
    "s[0] = s[0].lower()"
   ]
  },
  {
   "cell_type": "code",
   "execution_count": 83,
   "id": "f0d51a12",
   "metadata": {},
   "outputs": [],
   "source": [
    "s = set(s)"
   ]
  },
  {
   "cell_type": "code",
   "execution_count": 84,
   "id": "e35198df",
   "metadata": {},
   "outputs": [
    {
     "name": "stdout",
     "output_type": "stream",
     "text": [
      "5\n",
      "6\n",
      "sand\n",
      "12\n",
      "45\n"
     ]
    }
   ],
   "source": [
    "for i in s:\n",
    "    print(i)"
   ]
  },
  {
   "cell_type": "code",
   "execution_count": 85,
   "id": "7a4f974e",
   "metadata": {},
   "outputs": [
    {
     "data": {
      "text/plain": [
       "True"
      ]
     },
     "execution_count": 85,
     "metadata": {},
     "output_type": "execute_result"
    }
   ],
   "source": [
    "6 in s"
   ]
  },
  {
   "cell_type": "code",
   "execution_count": 86,
   "id": "45f1564f",
   "metadata": {},
   "outputs": [
    {
     "ename": "TypeError",
     "evalue": "'set' object is not subscriptable",
     "output_type": "error",
     "traceback": [
      "\u001b[0;31m---------------------------------------------------------------------------\u001b[0m",
      "\u001b[0;31mTypeError\u001b[0m                                 Traceback (most recent call last)",
      "\u001b[0;32m<ipython-input-86-c9c96910e542>\u001b[0m in \u001b[0;36m<module>\u001b[0;34m\u001b[0m\n\u001b[0;32m----> 1\u001b[0;31m \u001b[0ms\u001b[0m\u001b[0;34m[\u001b[0m\u001b[0;36m0\u001b[0m\u001b[0;34m]\u001b[0m\u001b[0;34m\u001b[0m\u001b[0;34m\u001b[0m\u001b[0m\n\u001b[0m",
      "\u001b[0;31mTypeError\u001b[0m: 'set' object is not subscriptable"
     ]
    }
   ],
   "source": [
    "s[0]"
   ]
  },
  {
   "cell_type": "code",
   "execution_count": 87,
   "id": "39965401",
   "metadata": {},
   "outputs": [],
   "source": [
    "s = set()"
   ]
  },
  {
   "cell_type": "code",
   "execution_count": 88,
   "id": "ef8b04a9",
   "metadata": {},
   "outputs": [
    {
     "data": {
      "text/plain": [
       "set()"
      ]
     },
     "execution_count": 88,
     "metadata": {},
     "output_type": "execute_result"
    }
   ],
   "source": [
    "s"
   ]
  },
  {
   "cell_type": "code",
   "execution_count": 89,
   "id": "80847b3e",
   "metadata": {},
   "outputs": [],
   "source": [
    "s.add(45)\n",
    "s.add(15)\n",
    "s.add((45,56))"
   ]
  },
  {
   "cell_type": "code",
   "execution_count": 90,
   "id": "1d3b2150",
   "metadata": {},
   "outputs": [
    {
     "data": {
      "text/plain": [
       "{(45, 56), 15, 45}"
      ]
     },
     "execution_count": 90,
     "metadata": {},
     "output_type": "execute_result"
    }
   ],
   "source": [
    "s"
   ]
  },
  {
   "cell_type": "code",
   "execution_count": 91,
   "id": "aac09cf0",
   "metadata": {},
   "outputs": [
    {
     "ename": "TypeError",
     "evalue": "unhashable type: 'list'",
     "output_type": "error",
     "traceback": [
      "\u001b[0;31m---------------------------------------------------------------------------\u001b[0m",
      "\u001b[0;31mTypeError\u001b[0m                                 Traceback (most recent call last)",
      "\u001b[0;32m<ipython-input-91-a77d8940a110>\u001b[0m in \u001b[0;36m<module>\u001b[0;34m\u001b[0m\n\u001b[0;32m----> 1\u001b[0;31m \u001b[0ms\u001b[0m\u001b[0;34m.\u001b[0m\u001b[0madd\u001b[0m\u001b[0;34m(\u001b[0m\u001b[0;34m[\u001b[0m\u001b[0;36m45\u001b[0m\u001b[0;34m,\u001b[0m\u001b[0;36m56\u001b[0m\u001b[0;34m]\u001b[0m\u001b[0;34m)\u001b[0m\u001b[0;34m\u001b[0m\u001b[0;34m\u001b[0m\u001b[0m\n\u001b[0m",
      "\u001b[0;31mTypeError\u001b[0m: unhashable type: 'list'"
     ]
    }
   ],
   "source": [
    "s.add([45,56])"
   ]
  },
  {
   "cell_type": "code",
   "execution_count": 92,
   "id": "451c2131",
   "metadata": {},
   "outputs": [],
   "source": [
    "s.add((45,45))"
   ]
  },
  {
   "cell_type": "code",
   "execution_count": 93,
   "id": "07cbb666",
   "metadata": {},
   "outputs": [
    {
     "data": {
      "text/plain": [
       "{(45, 45), (45, 56), 15, 45}"
      ]
     },
     "execution_count": 93,
     "metadata": {},
     "output_type": "execute_result"
    }
   ],
   "source": [
    "s"
   ]
  },
  {
   "cell_type": "code",
   "execution_count": 95,
   "id": "d08adfba",
   "metadata": {},
   "outputs": [],
   "source": [
    "s.add((45,45))"
   ]
  },
  {
   "cell_type": "code",
   "execution_count": 96,
   "id": "5dbdf5c5",
   "metadata": {},
   "outputs": [
    {
     "data": {
      "text/plain": [
       "{(45, 45), (45, 56), 15, 45}"
      ]
     },
     "execution_count": 96,
     "metadata": {},
     "output_type": "execute_result"
    }
   ],
   "source": [
    "s"
   ]
  },
  {
   "cell_type": "code",
   "execution_count": 98,
   "id": "1378d6c6",
   "metadata": {},
   "outputs": [
    {
     "data": {
      "text/plain": [
       "(45, 45)"
      ]
     },
     "execution_count": 98,
     "metadata": {},
     "output_type": "execute_result"
    }
   ],
   "source": [
    "s.pop()"
   ]
  },
  {
   "cell_type": "code",
   "execution_count": 99,
   "id": "81e74946",
   "metadata": {},
   "outputs": [
    {
     "data": {
      "text/plain": [
       "{(45, 56), 15, 45}"
      ]
     },
     "execution_count": 99,
     "metadata": {},
     "output_type": "execute_result"
    }
   ],
   "source": [
    "s"
   ]
  },
  {
   "cell_type": "code",
   "execution_count": 100,
   "id": "bdb485ad",
   "metadata": {},
   "outputs": [
    {
     "data": {
      "text/plain": [
       "(45, 56)"
      ]
     },
     "execution_count": 100,
     "metadata": {},
     "output_type": "execute_result"
    }
   ],
   "source": [
    "s.pop()"
   ]
  },
  {
   "cell_type": "code",
   "execution_count": 101,
   "id": "834cfc49",
   "metadata": {},
   "outputs": [
    {
     "data": {
      "text/plain": [
       "{15, 45}"
      ]
     },
     "execution_count": 101,
     "metadata": {},
     "output_type": "execute_result"
    }
   ],
   "source": [
    "s"
   ]
  },
  {
   "cell_type": "code",
   "execution_count": 102,
   "id": "86f6b926",
   "metadata": {},
   "outputs": [
    {
     "data": {
      "text/plain": [
       "dict"
      ]
     },
     "execution_count": 102,
     "metadata": {},
     "output_type": "execute_result"
    }
   ],
   "source": [
    "x = {}\n",
    "type(x)"
   ]
  },
  {
   "cell_type": "code",
   "execution_count": 103,
   "id": "6b46521f",
   "metadata": {},
   "outputs": [
    {
     "data": {
      "text/plain": [
       "set"
      ]
     },
     "execution_count": 103,
     "metadata": {},
     "output_type": "execute_result"
    }
   ],
   "source": [
    "x1 = {25,56}\n",
    "type(x1)"
   ]
  },
  {
   "cell_type": "code",
   "execution_count": 104,
   "id": "1a04a1ef",
   "metadata": {},
   "outputs": [],
   "source": [
    "x = {'name':'sand','age':25}"
   ]
  },
  {
   "cell_type": "code",
   "execution_count": 105,
   "id": "b6cdf764",
   "metadata": {},
   "outputs": [
    {
     "data": {
      "text/plain": [
       "'sand'"
      ]
     },
     "execution_count": 105,
     "metadata": {},
     "output_type": "execute_result"
    }
   ],
   "source": [
    "x['name']"
   ]
  },
  {
   "cell_type": "code",
   "execution_count": 106,
   "id": "34c8800f",
   "metadata": {},
   "outputs": [
    {
     "data": {
      "text/plain": [
       "25"
      ]
     },
     "execution_count": 106,
     "metadata": {},
     "output_type": "execute_result"
    }
   ],
   "source": [
    "x['age']"
   ]
  },
  {
   "cell_type": "code",
   "execution_count": 107,
   "id": "826d904c",
   "metadata": {},
   "outputs": [
    {
     "data": {
      "text/plain": [
       "dict"
      ]
     },
     "execution_count": 107,
     "metadata": {},
     "output_type": "execute_result"
    }
   ],
   "source": [
    "type(x)"
   ]
  },
  {
   "cell_type": "code",
   "execution_count": 111,
   "id": "f677e3c7",
   "metadata": {},
   "outputs": [],
   "source": [
    "x1 = {'name':'sand','age':25,'name':'mari','age':56,'email':'mari@','sandeep':{'name':'sand','age':56}}"
   ]
  },
  {
   "cell_type": "code",
   "execution_count": 112,
   "id": "424532df",
   "metadata": {},
   "outputs": [
    {
     "data": {
      "text/plain": [
       "{'name': 'mari',\n",
       " 'age': 56,\n",
       " 'email': 'mari@',\n",
       " 'sandeep': {'name': 'sand', 'age': 56}}"
      ]
     },
     "execution_count": 112,
     "metadata": {},
     "output_type": "execute_result"
    }
   ],
   "source": [
    "x1"
   ]
  },
  {
   "cell_type": "code",
   "execution_count": 114,
   "id": "fb1f7852",
   "metadata": {},
   "outputs": [
    {
     "data": {
      "text/plain": [
       "'sand'"
      ]
     },
     "execution_count": 114,
     "metadata": {},
     "output_type": "execute_result"
    }
   ],
   "source": [
    "x1['sandeep']['name']"
   ]
  },
  {
   "cell_type": "code",
   "execution_count": 115,
   "id": "7c15d90e",
   "metadata": {},
   "outputs": [
    {
     "data": {
      "text/plain": [
       "dict_keys(['name', 'age', 'email', 'sandeep'])"
      ]
     },
     "execution_count": 115,
     "metadata": {},
     "output_type": "execute_result"
    }
   ],
   "source": [
    "x1.keys()"
   ]
  },
  {
   "cell_type": "code",
   "execution_count": 116,
   "id": "840aea38",
   "metadata": {},
   "outputs": [
    {
     "data": {
      "text/plain": [
       "dict_values(['mari', 56, 'mari@', {'name': 'sand', 'age': 56}])"
      ]
     },
     "execution_count": 116,
     "metadata": {},
     "output_type": "execute_result"
    }
   ],
   "source": [
    "x1.values()"
   ]
  },
  {
   "cell_type": "code",
   "execution_count": 117,
   "id": "fac8664c",
   "metadata": {},
   "outputs": [
    {
     "data": {
      "text/plain": [
       "True"
      ]
     },
     "execution_count": 117,
     "metadata": {},
     "output_type": "execute_result"
    }
   ],
   "source": [
    "'name' in x1.keys()"
   ]
  },
  {
   "cell_type": "code",
   "execution_count": 118,
   "id": "ccd5a5e7",
   "metadata": {},
   "outputs": [
    {
     "name": "stdout",
     "output_type": "stream",
     "text": [
      "name\n",
      "age\n",
      "email\n",
      "sandeep\n"
     ]
    }
   ],
   "source": [
    "for i in x1:\n",
    "    print(i)"
   ]
  },
  {
   "cell_type": "code",
   "execution_count": 122,
   "id": "e3510f14",
   "metadata": {},
   "outputs": [
    {
     "name": "stdout",
     "output_type": "stream",
     "text": [
      "<class 'str'>\n",
      "<class 'int'>\n",
      "<class 'str'>\n",
      "<class 'dict'>\n"
     ]
    }
   ],
   "source": [
    "for i in x1.values():\n",
    "    print(type(i))"
   ]
  },
  {
   "cell_type": "code",
   "execution_count": 124,
   "id": "1b10b9f0",
   "metadata": {},
   "outputs": [
    {
     "data": {
      "text/plain": [
       "dict_items([('name', 'mari'), ('age', 56), ('email', 'mari@'), ('sandeep', {'name': 'sand', 'age': 56})])"
      ]
     },
     "execution_count": 124,
     "metadata": {},
     "output_type": "execute_result"
    }
   ],
   "source": [
    "x1.items()"
   ]
  },
  {
   "cell_type": "code",
   "execution_count": 127,
   "id": "92d13f4b",
   "metadata": {},
   "outputs": [
    {
     "name": "stdout",
     "output_type": "stream",
     "text": [
      "mari\n",
      "56\n",
      "mari@\n",
      "{'name': 'sand', 'age': 56}\n"
     ]
    }
   ],
   "source": [
    "for i in x1.items():\n",
    "    print(i[1])"
   ]
  },
  {
   "cell_type": "code",
   "execution_count": 128,
   "id": "ea7b4b66",
   "metadata": {},
   "outputs": [],
   "source": [
    "x5 = {(4,56,56):'sand'}"
   ]
  },
  {
   "cell_type": "code",
   "execution_count": 129,
   "id": "3ecf6284",
   "metadata": {},
   "outputs": [
    {
     "data": {
      "text/plain": [
       "'sand'"
      ]
     },
     "execution_count": 129,
     "metadata": {},
     "output_type": "execute_result"
    }
   ],
   "source": [
    "x5[(4,56,56)]"
   ]
  },
  {
   "cell_type": "code",
   "execution_count": 130,
   "id": "14e950fc",
   "metadata": {},
   "outputs": [
    {
     "data": {
      "text/plain": [
       "4"
      ]
     },
     "execution_count": 130,
     "metadata": {},
     "output_type": "execute_result"
    }
   ],
   "source": [
    "len(x1)"
   ]
  },
  {
   "cell_type": "code",
   "execution_count": 138,
   "id": "88a1ef1c",
   "metadata": {},
   "outputs": [],
   "source": [
    "e = {56:{45,26,25}}"
   ]
  },
  {
   "cell_type": "code",
   "execution_count": 139,
   "id": "3373ab8c",
   "metadata": {},
   "outputs": [
    {
     "data": {
      "text/plain": [
       "25"
      ]
     },
     "execution_count": 139,
     "metadata": {},
     "output_type": "execute_result"
    }
   ],
   "source": [
    "list(e[56])[0]"
   ]
  },
  {
   "cell_type": "code",
   "execution_count": 140,
   "id": "20928f19",
   "metadata": {},
   "outputs": [
    {
     "name": "stdout",
     "output_type": "stream",
     "text": [
      "Enter a paragraph:A paragraph is a series of sentences that are organized and coherent, and are all related to a single topic. Almost every piece of writing you do that is longer than a few sentences should be organized into paragraphs.\n"
     ]
    }
   ],
   "source": [
    "para = input('Enter a paragraph:')\n",
    "lst = para.split(' ')"
   ]
  },
  {
   "cell_type": "code",
   "execution_count": 154,
   "id": "1707b8f1",
   "metadata": {},
   "outputs": [],
   "source": [
    "dup = set(lst)"
   ]
  },
  {
   "cell_type": "code",
   "execution_count": 155,
   "id": "9823881a",
   "metadata": {},
   "outputs": [
    {
     "data": {
      "text/plain": [
       "{'A',\n",
       " 'Almost',\n",
       " 'a',\n",
       " 'all',\n",
       " 'and',\n",
       " 'are',\n",
       " 'be',\n",
       " 'coherent,',\n",
       " 'do',\n",
       " 'every',\n",
       " 'few',\n",
       " 'into',\n",
       " 'is',\n",
       " 'longer',\n",
       " 'of',\n",
       " 'organized',\n",
       " 'paragraph',\n",
       " 'paragraphs.',\n",
       " 'piece',\n",
       " 'related',\n",
       " 'sentences',\n",
       " 'series',\n",
       " 'should',\n",
       " 'single',\n",
       " 'than',\n",
       " 'that',\n",
       " 'to',\n",
       " 'topic.',\n",
       " 'writing',\n",
       " 'you'}"
      ]
     },
     "execution_count": 155,
     "metadata": {},
     "output_type": "execute_result"
    }
   ],
   "source": [
    "dup"
   ]
  },
  {
   "cell_type": "code",
   "execution_count": 158,
   "id": "74a98370",
   "metadata": {},
   "outputs": [],
   "source": [
    "my_dict = {}\n",
    "for i in dup:\n",
    "    my_dict[i] = 'sandeep'"
   ]
  },
  {
   "cell_type": "code",
   "execution_count": 159,
   "id": "4d2f2fed",
   "metadata": {},
   "outputs": [
    {
     "data": {
      "text/plain": [
       "{'all': 'sandeep',\n",
       " 'do': 'sandeep',\n",
       " 'is': 'sandeep',\n",
       " 'a': 'sandeep',\n",
       " 'than': 'sandeep',\n",
       " 'Almost': 'sandeep',\n",
       " 'and': 'sandeep',\n",
       " 'into': 'sandeep',\n",
       " 'you': 'sandeep',\n",
       " 'to': 'sandeep',\n",
       " 'related': 'sandeep',\n",
       " 'series': 'sandeep',\n",
       " 'writing': 'sandeep',\n",
       " 'every': 'sandeep',\n",
       " 'are': 'sandeep',\n",
       " 'be': 'sandeep',\n",
       " 'sentences': 'sandeep',\n",
       " 'that': 'sandeep',\n",
       " 'topic.': 'sandeep',\n",
       " 'paragraph': 'sandeep',\n",
       " 'few': 'sandeep',\n",
       " 'should': 'sandeep',\n",
       " 'piece': 'sandeep',\n",
       " 'paragraphs.': 'sandeep',\n",
       " 'organized': 'sandeep',\n",
       " 'single': 'sandeep',\n",
       " 'longer': 'sandeep',\n",
       " 'A': 'sandeep',\n",
       " 'coherent,': 'sandeep',\n",
       " 'of': 'sandeep'}"
      ]
     },
     "execution_count": 159,
     "metadata": {},
     "output_type": "execute_result"
    }
   ],
   "source": [
    "my_dict"
   ]
  },
  {
   "cell_type": "code",
   "execution_count": 160,
   "id": "1ff17387",
   "metadata": {},
   "outputs": [
    {
     "data": {
      "text/plain": [
       "['all',\n",
       " 'do',\n",
       " 'is',\n",
       " 'a',\n",
       " 'than',\n",
       " 'Almost',\n",
       " 'and',\n",
       " 'into',\n",
       " 'you',\n",
       " 'to',\n",
       " 'related',\n",
       " 'series',\n",
       " 'writing',\n",
       " 'every',\n",
       " 'are',\n",
       " 'be',\n",
       " 'sentences',\n",
       " 'that',\n",
       " 'topic.',\n",
       " 'paragraph',\n",
       " 'few',\n",
       " 'should',\n",
       " 'piece',\n",
       " 'paragraphs.',\n",
       " 'organized',\n",
       " 'single',\n",
       " 'longer',\n",
       " 'A',\n",
       " 'coherent,',\n",
       " 'of']"
      ]
     },
     "execution_count": 160,
     "metadata": {},
     "output_type": "execute_result"
    }
   ],
   "source": [
    "list(my_dict.keys())"
   ]
  },
  {
   "cell_type": "code",
   "execution_count": 161,
   "id": "dcc83823",
   "metadata": {},
   "outputs": [
    {
     "data": {
      "text/plain": [
       "('sandeep',\n",
       " 'sandeep',\n",
       " 'sandeep',\n",
       " 'sandeep',\n",
       " 'sandeep',\n",
       " 'sandeep',\n",
       " 'sandeep',\n",
       " 'sandeep',\n",
       " 'sandeep',\n",
       " 'sandeep',\n",
       " 'sandeep',\n",
       " 'sandeep',\n",
       " 'sandeep',\n",
       " 'sandeep',\n",
       " 'sandeep',\n",
       " 'sandeep',\n",
       " 'sandeep',\n",
       " 'sandeep',\n",
       " 'sandeep',\n",
       " 'sandeep',\n",
       " 'sandeep',\n",
       " 'sandeep',\n",
       " 'sandeep',\n",
       " 'sandeep',\n",
       " 'sandeep',\n",
       " 'sandeep',\n",
       " 'sandeep',\n",
       " 'sandeep',\n",
       " 'sandeep',\n",
       " 'sandeep')"
      ]
     },
     "execution_count": 161,
     "metadata": {},
     "output_type": "execute_result"
    }
   ],
   "source": [
    "tuple(my_dict.values())"
   ]
  },
  {
   "cell_type": "code",
   "execution_count": 163,
   "id": "3502253e",
   "metadata": {},
   "outputs": [
    {
     "data": {
      "text/plain": [
       "{'company': 'ineuron', 'course': 'full stack data science', 'year': 2011}"
      ]
     },
     "execution_count": 163,
     "metadata": {},
     "output_type": "execute_result"
    }
   ],
   "source": [
    "d = {'company':'ineuron','course':'full stack data science','year':2011}\n",
    "d"
   ]
  },
  {
   "cell_type": "code",
   "execution_count": 164,
   "id": "be7a4f5a",
   "metadata": {},
   "outputs": [
    {
     "name": "stdout",
     "output_type": "stream",
     "text": [
      "keys:  company values:  ineuron\n",
      "keys:  course values:  full stack data science\n",
      "keys:  year values:  2011\n"
     ]
    }
   ],
   "source": [
    "for i in d:\n",
    "    print('keys: ',i,'values: ',d[i])"
   ]
  },
  {
   "cell_type": "code",
   "execution_count": 165,
   "id": "213be025",
   "metadata": {},
   "outputs": [
    {
     "data": {
      "text/plain": [
       "True"
      ]
     },
     "execution_count": 165,
     "metadata": {},
     "output_type": "execute_result"
    }
   ],
   "source": [
    "'course' in d"
   ]
  },
  {
   "cell_type": "code",
   "execution_count": 168,
   "id": "6fb4c817",
   "metadata": {},
   "outputs": [
    {
     "name": "stdout",
     "output_type": "stream",
     "text": [
      "year is great\n"
     ]
    }
   ],
   "source": [
    "for i in d:\n",
    "    if i == 'year':\n",
    "        if d[i]>2021:\n",
    "            print('year is great')\n",
    "        else:\n",
    "            d[i] = 2022"
   ]
  },
  {
   "cell_type": "code",
   "execution_count": 169,
   "id": "9841aa7d",
   "metadata": {},
   "outputs": [
    {
     "data": {
      "text/plain": [
       "{'company': 'ineuron', 'course': 'full stack data science', 'year': 2022}"
      ]
     },
     "execution_count": 169,
     "metadata": {},
     "output_type": "execute_result"
    }
   ],
   "source": [
    "d"
   ]
  },
  {
   "cell_type": "code",
   "execution_count": 170,
   "id": "20259a83",
   "metadata": {},
   "outputs": [],
   "source": [
    "my_dict={}\n",
    "for i in range(10):\n",
    "    my_dict[i] = i*i"
   ]
  },
  {
   "cell_type": "code",
   "execution_count": 171,
   "id": "cfacc35f",
   "metadata": {},
   "outputs": [
    {
     "data": {
      "text/plain": [
       "{0: 0, 1: 1, 2: 4, 3: 9, 4: 16, 5: 25, 6: 36, 7: 49, 8: 64, 9: 81}"
      ]
     },
     "execution_count": 171,
     "metadata": {},
     "output_type": "execute_result"
    }
   ],
   "source": [
    "my_dict"
   ]
  },
  {
   "cell_type": "code",
   "execution_count": 173,
   "id": "14209a8c",
   "metadata": {},
   "outputs": [
    {
     "data": {
      "text/plain": [
       "{0: 0, 1: 1, 2: 4, 3: 9, 4: 16, 5: 25, 6: 36, 7: 49, 8: 64, 9: 81}"
      ]
     },
     "execution_count": 173,
     "metadata": {},
     "output_type": "execute_result"
    }
   ],
   "source": [
    "{i:i*i for i in range(10)}"
   ]
  },
  {
   "cell_type": "code",
   "execution_count": null,
   "id": "e0df9477",
   "metadata": {},
   "outputs": [],
   "source": []
  }
 ],
 "metadata": {
  "kernelspec": {
   "display_name": "Python 3",
   "language": "python",
   "name": "python3"
  },
  "language_info": {
   "codemirror_mode": {
    "name": "ipython",
    "version": 3
   },
   "file_extension": ".py",
   "mimetype": "text/x-python",
   "name": "python",
   "nbconvert_exporter": "python",
   "pygments_lexer": "ipython3",
   "version": "3.8.8"
  }
 },
 "nbformat": 4,
 "nbformat_minor": 5
}
