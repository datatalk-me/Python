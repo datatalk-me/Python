{
 "cells": [
  {
   "cell_type": "code",
   "execution_count": 2,
   "id": "1a3444fc",
   "metadata": {},
   "outputs": [
    {
     "data": {
      "text/plain": [
       "32"
      ]
     },
     "execution_count": 2,
     "metadata": {},
     "output_type": "execute_result"
    }
   ],
   "source": [
    "a = 10\n",
    "b = 22\n",
    "a+b"
   ]
  },
  {
   "cell_type": "code",
   "execution_count": 3,
   "id": "b00d17d1",
   "metadata": {},
   "outputs": [],
   "source": [
    "def sum(a,b):\n",
    "    return a+b"
   ]
  },
  {
   "cell_type": "code",
   "execution_count": 4,
   "id": "20a5d0c7",
   "metadata": {},
   "outputs": [
    {
     "data": {
      "text/plain": [
       "4"
      ]
     },
     "execution_count": 4,
     "metadata": {},
     "output_type": "execute_result"
    }
   ],
   "source": [
    "sum(1,3)"
   ]
  },
  {
   "cell_type": "code",
   "execution_count": 5,
   "id": "913ea4ca",
   "metadata": {},
   "outputs": [
    {
     "data": {
      "text/plain": [
       "'sandboya'"
      ]
     },
     "execution_count": 5,
     "metadata": {},
     "output_type": "execute_result"
    }
   ],
   "source": [
    "sum('sand','boya')"
   ]
  },
  {
   "cell_type": "code",
   "execution_count": 6,
   "id": "f2654580",
   "metadata": {},
   "outputs": [
    {
     "data": {
      "text/plain": [
       "<function __main__.sum(a, b)>"
      ]
     },
     "execution_count": 6,
     "metadata": {},
     "output_type": "execute_result"
    }
   ],
   "source": [
    "sum"
   ]
  },
  {
   "cell_type": "code",
   "execution_count": 7,
   "id": "9696f0e9",
   "metadata": {},
   "outputs": [
    {
     "data": {
      "text/plain": [
       "101"
      ]
     },
     "execution_count": 7,
     "metadata": {},
     "output_type": "execute_result"
    }
   ],
   "source": [
    "  sum(45,56)"
   ]
  },
  {
   "cell_type": "code",
   "execution_count": 8,
   "id": "78ffe7ba",
   "metadata": {},
   "outputs": [],
   "source": [
    "def test1(b,n):\n",
    "    return b*n"
   ]
  },
  {
   "cell_type": "code",
   "execution_count": 10,
   "id": "d6a415b6",
   "metadata": {},
   "outputs": [
    {
     "data": {
      "text/plain": [
       "36"
      ]
     },
     "execution_count": 10,
     "metadata": {},
     "output_type": "execute_result"
    }
   ],
   "source": [
    "test1(5,6) + 6"
   ]
  },
  {
   "cell_type": "code",
   "execution_count": 11,
   "id": "fc516f5b",
   "metadata": {},
   "outputs": [
    {
     "data": {
      "text/plain": [
       "int"
      ]
     },
     "execution_count": 11,
     "metadata": {},
     "output_type": "execute_result"
    }
   ],
   "source": [
    "type(test1(5,6))"
   ]
  },
  {
   "cell_type": "code",
   "execution_count": 12,
   "id": "74d3e2b7",
   "metadata": {},
   "outputs": [],
   "source": [
    " def test2(a,b,c):\n",
    "        return a + b"
   ]
  },
  {
   "cell_type": "code",
   "execution_count": 14,
   "id": "30b34232",
   "metadata": {},
   "outputs": [
    {
     "data": {
      "text/plain": [
       "11"
      ]
     },
     "execution_count": 14,
     "metadata": {},
     "output_type": "execute_result"
    }
   ],
   "source": [
    "test2(6,5,1)"
   ]
  },
  {
   "cell_type": "code",
   "execution_count": 16,
   "id": "29d58bdc",
   "metadata": {},
   "outputs": [],
   "source": [
    "def test3(n,m):\n",
    "    return n*10,m*40"
   ]
  },
  {
   "cell_type": "code",
   "execution_count": 18,
   "id": "b3b03add",
   "metadata": {},
   "outputs": [
    {
     "data": {
      "text/plain": [
       "tuple"
      ]
     },
     "execution_count": 18,
     "metadata": {},
     "output_type": "execute_result"
    }
   ],
   "source": [
    "type(test3(5,10))"
   ]
  },
  {
   "cell_type": "code",
   "execution_count": 19,
   "id": "cb6f9a02",
   "metadata": {},
   "outputs": [],
   "source": [
    "c,x = test3(5,4)"
   ]
  },
  {
   "cell_type": "code",
   "execution_count": 20,
   "id": "86de621b",
   "metadata": {},
   "outputs": [
    {
     "data": {
      "text/plain": [
       "50"
      ]
     },
     "execution_count": 20,
     "metadata": {},
     "output_type": "execute_result"
    }
   ],
   "source": [
    "c"
   ]
  },
  {
   "cell_type": "code",
   "execution_count": 21,
   "id": "ab400701",
   "metadata": {},
   "outputs": [
    {
     "data": {
      "text/plain": [
       "160"
      ]
     },
     "execution_count": 21,
     "metadata": {},
     "output_type": "execute_result"
    }
   ],
   "source": [
    "x"
   ]
  },
  {
   "cell_type": "code",
   "execution_count": 27,
   "id": "45004c9f",
   "metadata": {},
   "outputs": [],
   "source": [
    "c,_ = test3(5,4)"
   ]
  },
  {
   "cell_type": "code",
   "execution_count": 28,
   "id": "f7916c21",
   "metadata": {},
   "outputs": [
    {
     "data": {
      "text/plain": [
       "50"
      ]
     },
     "execution_count": 28,
     "metadata": {},
     "output_type": "execute_result"
    }
   ],
   "source": [
    "c"
   ]
  },
  {
   "cell_type": "code",
   "execution_count": 29,
   "id": "1696fe42",
   "metadata": {},
   "outputs": [
    {
     "data": {
      "text/plain": [
       "160"
      ]
     },
     "execution_count": 29,
     "metadata": {},
     "output_type": "execute_result"
    }
   ],
   "source": [
    "_"
   ]
  },
  {
   "cell_type": "code",
   "execution_count": 30,
   "id": "b1b062b2",
   "metadata": {},
   "outputs": [],
   "source": [
    "def test():\n",
    "    print('This is first function')"
   ]
  },
  {
   "cell_type": "code",
   "execution_count": 31,
   "id": "f1dbe754",
   "metadata": {},
   "outputs": [
    {
     "name": "stdout",
     "output_type": "stream",
     "text": [
      "This is first function\n"
     ]
    }
   ],
   "source": [
    "m = test()"
   ]
  },
  {
   "cell_type": "code",
   "execution_count": 32,
   "id": "3587896f",
   "metadata": {},
   "outputs": [
    {
     "ename": "TypeError",
     "evalue": "unsupported operand type(s) for +: 'NoneType' and 'str'",
     "output_type": "error",
     "traceback": [
      "\u001b[0;31m---------------------------------------------------------------------------\u001b[0m",
      "\u001b[0;31mTypeError\u001b[0m                                 Traceback (most recent call last)",
      "\u001b[0;32m<ipython-input-32-0391acfcbd25>\u001b[0m in \u001b[0;36m<module>\u001b[0;34m\u001b[0m\n\u001b[0;32m----> 1\u001b[0;31m \u001b[0mm\u001b[0m \u001b[0;34m+\u001b[0m \u001b[0;34m'sand'\u001b[0m\u001b[0;34m\u001b[0m\u001b[0;34m\u001b[0m\u001b[0m\n\u001b[0m",
      "\u001b[0;31mTypeError\u001b[0m: unsupported operand type(s) for +: 'NoneType' and 'str'"
     ]
    }
   ],
   "source": [
    "m + 'sand'"
   ]
  },
  {
   "cell_type": "code",
   "execution_count": 33,
   "id": "ff8d9638",
   "metadata": {},
   "outputs": [],
   "source": [
    "def test():\n",
    "    return 'This is my first program'"
   ]
  },
  {
   "cell_type": "code",
   "execution_count": 34,
   "id": "b953eafa",
   "metadata": {},
   "outputs": [],
   "source": [
    "m = test()"
   ]
  },
  {
   "cell_type": "code",
   "execution_count": 35,
   "id": "306c4def",
   "metadata": {},
   "outputs": [
    {
     "data": {
      "text/plain": [
       "'This is my first programsand'"
      ]
     },
     "execution_count": 35,
     "metadata": {},
     "output_type": "execute_result"
    }
   ],
   "source": [
    "m + 'sand'"
   ]
  },
  {
   "cell_type": "code",
   "execution_count": 38,
   "id": "3ebe189e",
   "metadata": {},
   "outputs": [],
   "source": [
    "def test9(n):\n",
    "    return n,n*2"
   ]
  },
  {
   "cell_type": "code",
   "execution_count": 42,
   "id": "9f1fb6a5",
   "metadata": {},
   "outputs": [],
   "source": [
    "b = test9([4,5,6,7,8,9])"
   ]
  },
  {
   "cell_type": "code",
   "execution_count": 43,
   "id": "2571c6c1",
   "metadata": {},
   "outputs": [
    {
     "data": {
      "text/plain": [
       "([4, 5, 6, 7, 8, 9], [4, 5, 6, 7, 8, 9, 4, 5, 6, 7, 8, 9])"
      ]
     },
     "execution_count": 43,
     "metadata": {},
     "output_type": "execute_result"
    }
   ],
   "source": [
    "b"
   ]
  },
  {
   "cell_type": "code",
   "execution_count": 44,
   "id": "2bb3850e",
   "metadata": {},
   "outputs": [
    {
     "data": {
      "text/plain": [
       "[4, 5, 6, 7, 8, 9]"
      ]
     },
     "execution_count": 44,
     "metadata": {},
     "output_type": "execute_result"
    }
   ],
   "source": [
    "b[0]"
   ]
  },
  {
   "cell_type": "code",
   "execution_count": 45,
   "id": "013792fe",
   "metadata": {},
   "outputs": [
    {
     "data": {
      "text/plain": [
       "[4, 5, 6, 7, 8, 9, 4, 5, 6, 7, 8, 9]"
      ]
     },
     "execution_count": 45,
     "metadata": {},
     "output_type": "execute_result"
    }
   ],
   "source": [
    "b[1]"
   ]
  },
  {
   "cell_type": "code",
   "execution_count": 55,
   "id": "ea772c7c",
   "metadata": {},
   "outputs": [],
   "source": [
    "def test1(n=10,m=90):\n",
    "    return n + m"
   ]
  },
  {
   "cell_type": "code",
   "execution_count": 57,
   "id": "ac828e45",
   "metadata": {},
   "outputs": [
    {
     "data": {
      "text/plain": [
       "3"
      ]
     },
     "execution_count": 57,
     "metadata": {},
     "output_type": "execute_result"
    }
   ],
   "source": [
    "test1(1,2)"
   ]
  },
  {
   "cell_type": "code",
   "execution_count": 58,
   "id": "8b6047cb",
   "metadata": {},
   "outputs": [],
   "source": [
    "def boolx(x=True,y=False):\n",
    "    return x + y"
   ]
  },
  {
   "cell_type": "code",
   "execution_count": 59,
   "id": "88382466",
   "metadata": {},
   "outputs": [
    {
     "data": {
      "text/plain": [
       "1"
      ]
     },
     "execution_count": 59,
     "metadata": {},
     "output_type": "execute_result"
    }
   ],
   "source": [
    "boolx()"
   ]
  },
  {
   "cell_type": "code",
   "execution_count": 60,
   "id": "d8a8aca4",
   "metadata": {},
   "outputs": [
    {
     "data": {
      "text/plain": [
       "0"
      ]
     },
     "execution_count": 60,
     "metadata": {},
     "output_type": "execute_result"
    }
   ],
   "source": [
    "boolx(False)"
   ]
  },
  {
   "cell_type": "code",
   "execution_count": 61,
   "id": "9b5229dd",
   "metadata": {},
   "outputs": [
    {
     "data": {
      "text/plain": [
       "2"
      ]
     },
     "execution_count": 61,
     "metadata": {},
     "output_type": "execute_result"
    }
   ],
   "source": [
    "boolx(True,1)"
   ]
  },
  {
   "cell_type": "code",
   "execution_count": 62,
   "id": "df87e2e5",
   "metadata": {},
   "outputs": [],
   "source": [
    "def travel(bike =True,car=False):\n",
    "    plan_travel = bike or car\n",
    "    return bike,car,plan_travel"
   ]
  },
  {
   "cell_type": "code",
   "execution_count": 64,
   "id": "c0bdf003",
   "metadata": {},
   "outputs": [
    {
     "data": {
      "text/plain": [
       "(True, False, True)"
      ]
     },
     "execution_count": 64,
     "metadata": {},
     "output_type": "execute_result"
    }
   ],
   "source": [
    "travel()"
   ]
  },
  {
   "cell_type": "code",
   "execution_count": 65,
   "id": "5c440ad7",
   "metadata": {},
   "outputs": [
    {
     "data": {
      "text/plain": [
       "(False, False, False)"
      ]
     },
     "execution_count": 65,
     "metadata": {},
     "output_type": "execute_result"
    }
   ],
   "source": [
    "travel(False)"
   ]
  },
  {
   "cell_type": "code",
   "execution_count": 66,
   "id": "523069d9",
   "metadata": {},
   "outputs": [
    {
     "data": {
      "text/plain": [
       "(True, True, True)"
      ]
     },
     "execution_count": 66,
     "metadata": {},
     "output_type": "execute_result"
    }
   ],
   "source": [
    "travel(car=True)"
   ]
  },
  {
   "cell_type": "code",
   "execution_count": 67,
   "id": "20121275",
   "metadata": {},
   "outputs": [],
   "source": [
    "def test(*args, a='sam'):\n",
    "    return args"
   ]
  },
  {
   "cell_type": "code",
   "execution_count": 68,
   "id": "5e6d8a8f",
   "metadata": {},
   "outputs": [
    {
     "data": {
      "text/plain": [
       "('sandeep', 'Rayudu', 'Mariana')"
      ]
     },
     "execution_count": 68,
     "metadata": {},
     "output_type": "execute_result"
    }
   ],
   "source": [
    "test('sandeep','Rayudu','Mariana',)"
   ]
  },
  {
   "cell_type": "code",
   "execution_count": 69,
   "id": "ad98bd40",
   "metadata": {},
   "outputs": [
    {
     "data": {
      "text/plain": [
       "()"
      ]
     },
     "execution_count": 69,
     "metadata": {},
     "output_type": "execute_result"
    }
   ],
   "source": [
    "test()"
   ]
  },
  {
   "cell_type": "code",
   "execution_count": 92,
   "id": "200114bd",
   "metadata": {},
   "outputs": [],
   "source": [
    "\n",
    "def test2(*args):\n",
    "    lst = []\n",
    "    for i in args:\n",
    "        lst = lst + i\n",
    "    return lst"
   ]
  },
  {
   "cell_type": "code",
   "execution_count": 93,
   "id": "fae3f52a",
   "metadata": {},
   "outputs": [
    {
     "data": {
      "text/plain": [
       "[1, 2, 3, 'Sand', 'sam', 1, 2]"
      ]
     },
     "execution_count": 93,
     "metadata": {},
     "output_type": "execute_result"
    }
   ],
   "source": [
    "test2([1,2,3],['Sand','sam'],[1,2])"
   ]
  },
  {
   "cell_type": "code",
   "execution_count": 95,
   "id": "f72e602f",
   "metadata": {},
   "outputs": [
    {
     "data": {
      "text/plain": [
       "[1, 2, 3, 5, 6, 7]"
      ]
     },
     "execution_count": 95,
     "metadata": {},
     "output_type": "execute_result"
    }
   ],
   "source": [
    "test2([1,2,3],[5,6,7])"
   ]
  },
  {
   "cell_type": "code",
   "execution_count": 96,
   "id": "9596882c",
   "metadata": {},
   "outputs": [],
   "source": [
    "def test4(*args):\n",
    "    return [ i for i in args]"
   ]
  },
  {
   "cell_type": "code",
   "execution_count": 97,
   "id": "4e1a8c8c",
   "metadata": {},
   "outputs": [
    {
     "data": {
      "text/plain": [
       "[[4, 5, 6], [4, 9, 6]]"
      ]
     },
     "execution_count": 97,
     "metadata": {},
     "output_type": "execute_result"
    }
   ],
   "source": [
    "test4([4,5,6],[4,9,6])"
   ]
  },
  {
   "cell_type": "code",
   "execution_count": 105,
   "id": "df0359db",
   "metadata": {},
   "outputs": [],
   "source": [
    "def test2(*args):\n",
    "    lst = []\n",
    "    for i in args:\n",
    "        if type(i) == list:\n",
    "            lst = lst + i\n",
    "    return lst"
   ]
  },
  {
   "cell_type": "code",
   "execution_count": 106,
   "id": "58e418ba",
   "metadata": {},
   "outputs": [
    {
     "data": {
      "text/plain": [
       "['sand', 'mar', 'siva', 'rama']"
      ]
     },
     "execution_count": 106,
     "metadata": {},
     "output_type": "execute_result"
    }
   ],
   "source": [
    "test2(5,6,'sand',['sand','mar'],['siva','rama'],{'sand':'sand'})"
   ]
  },
  {
   "cell_type": "code",
   "execution_count": 100,
   "id": "319fad36",
   "metadata": {},
   "outputs": [],
   "source": [
    "def test15(**kwargs):\n",
    "    return kwargs"
   ]
  },
  {
   "cell_type": "code",
   "execution_count": 108,
   "id": "7765689a",
   "metadata": {},
   "outputs": [
    {
     "data": {
      "text/plain": [
       "{'name': 'sand', 'age': 27}"
      ]
     },
     "execution_count": 108,
     "metadata": {},
     "output_type": "execute_result"
    }
   ],
   "source": [
    "test15(name='sand',age = 27)"
   ]
  },
  {
   "cell_type": "code",
   "execution_count": 111,
   "id": "49fe02e9",
   "metadata": {},
   "outputs": [],
   "source": [
    "integer = []\n",
    "floating = []\n",
    "string = []\n",
    "lst = []\n",
    "tup = []\n",
    "def fun1(*args):\n",
    "    for i in args:\n",
    "        if type(i) == int:\n",
    "            integer.append(i)\n",
    "        if type(i) == float:\n",
    "            floating.append(i)\n",
    "        if type(i) == str:\n",
    "            string.append(i)\n",
    "        if type(i) == list:\n",
    "            lst.append(i)\n",
    "        else:\n",
    "            tup.append(i)\n",
    "    return integer,floating,string,lst,tup"
   ]
  },
  {
   "cell_type": "code",
   "execution_count": 112,
   "id": "d4869aa5",
   "metadata": {},
   "outputs": [
    {
     "data": {
      "text/plain": [
       "([1, 2],\n",
       " [0.6],\n",
       " ['sand'],\n",
       " [[1, 2], ['sand', 'mar']],\n",
       " [1, 2, 'sand', 0.6, (4, 5, 9)])"
      ]
     },
     "execution_count": 112,
     "metadata": {},
     "output_type": "execute_result"
    }
   ],
   "source": [
    "fun1(1,2,'sand',.6,[1,2],(4,5,9),['sand','mar'])"
   ]
  },
  {
   "cell_type": "code",
   "execution_count": 113,
   "id": "6cde1022",
   "metadata": {},
   "outputs": [],
   "source": [
    "def test1(**kwargs):\n",
    "    return kwargs"
   ]
  },
  {
   "cell_type": "code",
   "execution_count": 115,
   "id": "fe8ee659",
   "metadata": {},
   "outputs": [
    {
     "data": {
      "text/plain": [
       "{'a': [1, 2, 3, 4], 'b': 6, 'c': 7, 'd': 8, 'e': 9, 'f': [4, 5, 6]}"
      ]
     },
     "execution_count": 115,
     "metadata": {},
     "output_type": "execute_result"
    }
   ],
   "source": [
    "test1(a = [1,2,3,4],b = 6,c = 7,d = 8,e = 9,f = [4,5,6])"
   ]
  },
  {
   "cell_type": "code",
   "execution_count": null,
   "id": "623ecdec",
   "metadata": {},
   "outputs": [],
   "source": []
  }
 ],
 "metadata": {
  "kernelspec": {
   "display_name": "Python 3",
   "language": "python",
   "name": "python3"
  },
  "language_info": {
   "codemirror_mode": {
    "name": "ipython",
    "version": 3
   },
   "file_extension": ".py",
   "mimetype": "text/x-python",
   "name": "python",
   "nbconvert_exporter": "python",
   "pygments_lexer": "ipython3",
   "version": "3.8.8"
  }
 },
 "nbformat": 4,
 "nbformat_minor": 5
}
